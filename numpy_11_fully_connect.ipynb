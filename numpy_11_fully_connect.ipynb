{
 "cells": [
  {
   "cell_type": "code",
   "execution_count": 8,
   "metadata": {},
   "outputs": [
    {
     "name": "stdout",
     "output_type": "stream",
     "text": [
      "X: \n",
      "[[0 0 0 0]\n",
      " [1 1 1 1]\n",
      " [2 2 2 2]\n",
      " [3 3 3 3]\n",
      " [4 4 4 4]]\n",
      "Y: \n",
      "[[2 3 4 5]\n",
      " [2 3 4 5]\n",
      " [2 3 4 5]\n",
      " [2 3 4 5]\n",
      " [2 3 4 5]]\n",
      "Z: \n",
      "[[2 3 4 5]\n",
      " [3 4 5 6]\n",
      " [4 5 6 7]\n",
      " [5 6 7 8]\n",
      " [6 7 8 9]]\n"
     ]
    }
   ],
   "source": [
    "import numpy as np\n",
    "x = np.arange(5)\n",
    "y = np.arange(2, 6)\n",
    "X, Y = np.meshgrid(x, y)\n",
    "Z = X + Y\n",
    "X, Y, Z = X.T, Y.T, Z.T\n",
    "print(f\"X: \\n{X}\")\n",
    "print(f\"Y: \\n{Y}\")\n",
    "print(f\"Z: \\n{Z}\")\n",
    "\n"
   ]
  },
  {
   "cell_type": "markdown",
   "metadata": {},
   "source": [
    "#### broad cating"
   ]
  },
  {
   "cell_type": "code",
   "execution_count": 9,
   "metadata": {},
   "outputs": [
    {
     "name": "stdout",
     "output_type": "stream",
     "text": [
      "X: (5, 1)\n",
      "[[0]\n",
      " [1]\n",
      " [2]\n",
      " [3]\n",
      " [4]]\n",
      "Y: (1, 4)\n",
      "[[2 3 4 5]]\n",
      "Z: (5, 4)\n",
      "[[2 3 4 5]\n",
      " [3 4 5 6]\n",
      " [4 5 6 7]\n",
      " [5 6 7 8]\n",
      " [6 7 8 9]]\n"
     ]
    }
   ],
   "source": [
    "import numpy as np\n",
    "x = np.arange(5)\n",
    "y = np.arange(2, 6)\n",
    "\n",
    "X = x.reshape((-1, 1))\n",
    "Y = y.reshape((1, -1))\n",
    "Z = X + Y\n",
    "print(f\"X: {X.shape}\\n{X}\")\n",
    "print(f\"Y: {Y.shape}\\n{Y}\")\n",
    "print(f\"Z: {Z.shape}\\n{Z}\")\n"
   ]
  },
  {
   "cell_type": "code",
   "execution_count": 11,
   "metadata": {},
   "outputs": [
    {
     "name": "stdout",
     "output_type": "stream",
     "text": [
      "x[0] + y: [2 3 4 5]\n",
      "x[3] + y: [5 6 7 8]\n",
      "\n",
      "y[0] + x: [2 3 4 5 6]\n",
      "y[2] + x: [4 5 6 7 8]\n"
     ]
    }
   ],
   "source": [
    "import numpy as np\n",
    "x = np.arange(5)\n",
    "y = np.arange(2, 6)\n",
    "X = x.reshape((-1, 1))\n",
    "Y = y.reshape((1, -1))\n",
    "Z = X + Y\n",
    "print(f\"x[0] + y: {Z[0, :]}\")\n",
    "print(f\"x[3] + y: {Z[3, :]}\\n\")\n",
    "print(f\"y[0] + x: {Z[:, 0]}\")\n",
    "print(f\"y[2] + x: {Z[:, 2]}\")"
   ]
  },
  {
   "cell_type": "code",
   "execution_count": 17,
   "metadata": {},
   "outputs": [
    {
     "name": "stdout",
     "output_type": "stream",
     "text": [
      "[-0.04696392  2.99753369] [-1.92464962 -2.14735594] [-0.09615765 -3.55585008] \n",
      "[ 1.7158217  -0.96852767] [-0.161864   -6.11341731] [ 1.66662797 -7.52191145] \n",
      "[1.84216961 4.85201223] [-0.0355161  -0.29287741] [ 1.79297588 -1.70137155] \n",
      "[5.40773944 2.34257384] [ 3.53005374 -2.80231579] [ 5.35854572 -4.21080993] \n"
     ]
    }
   ],
   "source": [
    "import numpy as np\n",
    "X = np.random.uniform(-5, 5, (4, 2))\n",
    "Y = np.random.uniform(-5, 5, (3, 2))\n",
    "\n",
    "for x in X:\n",
    "    for y in Y:\n",
    "        add = x + y\n",
    "        print(f\"{add}\", end=' ')\n",
    "    print()\n"
   ]
  },
  {
   "cell_type": "code",
   "execution_count": 20,
   "metadata": {},
   "outputs": [
    {
     "name": "stdout",
     "output_type": "stream",
     "text": [
      "shapes: \n",
      "X/Y/Z: (4, 1, 2)/(1, 3, 2)/(4, 3, 2)\n",
      "\n"
     ]
    }
   ],
   "source": [
    "import numpy as np\n",
    "X = np.random.uniform(-5, 5, (4, 2))\n",
    "Y = np.random.uniform(-5, 5, (3, 2))\n",
    "\n",
    "X = np.expand_dims(X, axis=1)\n",
    "Y = np.expand_dims(Y, axis=0)\n",
    "Z = X + Y\n",
    "print(\"shapes: \")\n",
    "print(f\"X/Y/Z: {X.shape}/{Y.shape}/{Z.shape}\\n\")   # 3번째 인자는 2이닌깐 무시하고 첫 번째 두번째 Broad cast 되서 z값이 (4,3,2)가됨."
   ]
  },
  {
   "cell_type": "code",
   "execution_count": 21,
   "metadata": {},
   "outputs": [
    {
     "name": "stdout",
     "output_type": "stream",
     "text": [
      "X[0] + Y: \n",
      "[[+3.98004337 +0.77888992]\n",
      " [+3.3887991  +2.3379429 ]\n",
      " [+2.78113746 -1.50681404]]\n",
      "X[3] + Y: \n",
      "[[-1.21838787 -4.37508883]\n",
      " [-1.80963215 -2.81603585]\n",
      " [-2.41729379 -6.66079279]]\n",
      "\n",
      "Y[0] + X: \n",
      "[[+3.98004337 +0.77888992]\n",
      " [+2.26508721 -0.60317185]\n",
      " [+0.96549279 -5.77262162]\n",
      " [-1.21838787 -4.37508883]]\n",
      "Y[2] + X: \n",
      "[[+2.78113746 -1.50681404]\n",
      " [+1.06618129 -2.88887581]\n",
      " [-0.23341313 -8.05832558]\n",
      " [-2.41729379 -6.66079279]]\n"
     ]
    }
   ],
   "source": [
    "import numpy as np\n",
    "np.set_printoptions(sign='+')\n",
    "X = np.random.uniform(-5, 5, (4, 2))\n",
    "Y = np.random.uniform(-5, 5, (3, 2))\n",
    "X = np.expand_dims(X, axis=1)\n",
    "Y = np.expand_dims(Y, axis=0)\n",
    "Z = X + Y\n",
    "\n",
    "print(f\"X[0] + Y: \\n{Z[0, :, :]}\")\n",
    "print(f\"X[3] + Y: \\n{Z[3, :, :]}\\n\") \n",
    "print(f\"Y[0] + X: \\n{Z[:, 0, :]}\")\n",
    "print(f\"Y[2] + X: \\n{Z[:, 2, :]}\")\n"
   ]
  },
  {
   "cell_type": "markdown",
   "metadata": {},
   "source": [
    "### Euclidean Distance"
   ]
  },
  {
   "cell_type": "code",
   "execution_count": 24,
   "metadata": {},
   "outputs": [
    {
     "name": "stdout",
     "output_type": "stream",
     "text": [
      "X >  \n",
      " [[-0.38210496 -4.64940908]\n",
      " [+2.35105    +2.92013136]\n",
      " [-2.04276268 -4.17135183]\n",
      " [+3.02714439 +1.21982371]] \n",
      "\n",
      "Y >  \n",
      " [[-2.2401451  -1.9459673 ]\n",
      " [+1.71350511 +3.61461879]\n",
      " [-2.26502778 -2.78730624]] \n",
      "\n",
      " 3.28  8.53  2.65 \n",
      " 6.69  0.94  7.34 \n",
      " 2.23  8.64  1.40 \n",
      " 6.15  2.73  6.64 \n"
     ]
    }
   ],
   "source": [
    "import numpy as np\n",
    "X = np.random.uniform(-5, 5, (4, 2))\n",
    "Y = np.random.uniform(-5, 5, (3, 2))\n",
    "print(\"X > \",\"\\n\",X,\"\\n\")\n",
    "print(\"Y > \",\"\\n\",Y,\"\\n\")\n",
    "for x in X:\n",
    "    for y in Y:\n",
    "        e_dist = np.sqrt(np.sum(np.square(x - y)))\n",
    "        print(f\"{e_dist:5.2f}\", end=' ')\n",
    "    print()"
   ]
  },
  {
   "cell_type": "code",
   "execution_count": 26,
   "metadata": {},
   "outputs": [
    {
     "name": "stdout",
     "output_type": "stream",
     "text": [
      "[[+9.46094666 +8.37976849 +5.99949796]\n",
      " [+7.41264922 +4.14980553 +2.8639669 ]\n",
      " [+1.53951201 +4.65875218 +3.84254112]\n",
      " [+2.47767209 +5.96934847 +3.3812171 ]]\n"
     ]
    }
   ],
   "source": [
    "import numpy as np\n",
    "x = np.random.uniform(-5, 5, (4, 2))\n",
    "y = np.random.uniform(-5, 5, (3, 2))\n",
    "\n",
    "X = np.expand_dims(x, axis=1)\n",
    "Y = np.expand_dims(y, axis=0)\n",
    "Z = np.sqrt(np.sum(np.square(X - Y), axis=-1))\n",
    "print(Z)"
   ]
  },
  {
   "cell_type": "code",
   "execution_count": 30,
   "metadata": {},
   "outputs": [
    {
     "name": "stdout",
     "output_type": "stream",
     "text": [
      "[[+3.91836474 +2.69033578]\n",
      " [+2.86128453 -1.56334963]\n",
      " [-3.70989434 -2.81494111]\n",
      " [-2.71320038 +0.13575075]] \n",
      "\n",
      " [[-4.55126899 -1.52568321]\n",
      " [+0.4394565  -4.93316193]\n",
      " [+0.01315779 -1.86414931]]\n"
     ]
    }
   ],
   "source": [
    "print(x,\"\\n\\n\",y)"
   ]
  },
  {
   "cell_type": "code",
   "execution_count": 33,
   "metadata": {},
   "outputs": [
    {
     "name": "stdout",
     "output_type": "stream",
     "text": [
      "[[[+3.91836474 +2.69033578]]\n",
      "\n",
      " [[+2.86128453 -1.56334963]]\n",
      "\n",
      " [[-3.70989434 -2.81494111]]\n",
      "\n",
      " [[-2.71320038 +0.13575075]]] \n",
      "\n",
      "\n",
      " [[[-4.55126899 -1.52568321]\n",
      "  [+0.4394565  -4.93316193]\n",
      "  [+0.01315779 -1.86414931]]]\n"
     ]
    }
   ],
   "source": [
    "print(X,\"\\n\\n\\n\",Y)"
   ]
  }
 ],
 "metadata": {
  "interpreter": {
   "hash": "b674431c1d39ef928ef270796425238bfb437e6432d715d69029c8bf72455e63"
  },
  "kernelspec": {
   "display_name": "Python 3.6.15 64-bit ('coin_deep': conda)",
   "language": "python",
   "name": "python3"
  },
  "language_info": {
   "codemirror_mode": {
    "name": "ipython",
    "version": 3
   },
   "file_extension": ".py",
   "mimetype": "text/x-python",
   "name": "python",
   "nbconvert_exporter": "python",
   "pygments_lexer": "ipython3",
   "version": "3.6.15"
  },
  "orig_nbformat": 4
 },
 "nbformat": 4,
 "nbformat_minor": 2
}
