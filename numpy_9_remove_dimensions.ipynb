{
 "cells": [
  {
   "cell_type": "code",
   "execution_count": 1,
   "metadata": {},
   "outputs": [],
   "source": []
  },
  {
   "cell_type": "code",
   "execution_count": 3,
   "metadata": {},
   "outputs": [
    {
     "name": "stdout",
     "output_type": "stream",
     "text": [
      "a.shape: (1, 10)\n",
      "\n",
      "b.shape: (10,)\n",
      "c.shape: (10,)\n",
      "d.shape: (10,)\n"
     ]
    }
   ],
   "source": [
    "import numpy as np\n",
    "a = np.ones(shape=(1, 10))\n",
    "b = a.reshape((10, ))\n",
    "c = a.reshape((-1, ))\n",
    "d = a.flatten()\n",
    "print(f\"a.shape: {a.shape}\\n\")\n",
    "print(f\"b.shape: {b.shape}\")\n",
    "print(f\"c.shape: {c.shape}\")\n",
    "print(f\"d.shape: {d.shape}\")"
   ]
  },
  {
   "cell_type": "code",
   "execution_count": 4,
   "metadata": {},
   "outputs": [
    {
     "name": "stdout",
     "output_type": "stream",
     "text": [
      "a.shape: (10, 1)\n",
      "\n",
      "b.shape: (10,)\n",
      "c.shape: (10,)\n",
      "d.shape: (10,)\n"
     ]
    }
   ],
   "source": [
    "import numpy as np\n",
    "a = np.ones(shape=(10, 1))\n",
    "b = a.reshape((10, ))\n",
    "c = a.reshape((-1, ))\n",
    "d = a.flatten()\n",
    "print(f\"a.shape: {a.shape}\\n\")\n",
    "print(f\"b.shape: {b.shape}\")\n",
    "print(f\"c.shape: {c.shape}\")\n",
    "print(f\"d.shape: {d.shape}\")"
   ]
  },
  {
   "cell_type": "code",
   "execution_count": 10,
   "metadata": {},
   "outputs": [
    {
     "name": "stdout",
     "output_type": "stream",
     "text": [
      "a.shape: (1, 3, 4) \n",
      " [[[1. 1. 1. 1.]\n",
      "  [1. 1. 1. 1.]\n",
      "  [1. 1. 1. 1.]]]\n",
      "b.shape: (3, 4, 1)\n",
      " [[[1.]\n",
      "  [1.]\n",
      "  [1.]\n",
      "  [1.]]\n",
      "\n",
      " [[1.]\n",
      "  [1.]\n",
      "  [1.]\n",
      "  [1.]]\n",
      "\n",
      " [[1.]\n",
      "  [1.]\n",
      "  [1.]\n",
      "  [1.]]]\n",
      "c.shape: (3, 4) \n",
      " [[1. 1. 1. 1.]\n",
      " [1. 1. 1. 1.]\n",
      " [1. 1. 1. 1.]] \n",
      "\n",
      "d.shape: (3, 4) \n",
      " [[1. 1. 1. 1.]\n",
      " [1. 1. 1. 1.]\n",
      " [1. 1. 1. 1.]]\n"
     ]
    }
   ],
   "source": [
    "import numpy as np\n",
    "a = np.ones(shape=(1, 3, 4))\n",
    "b = np.ones(shape=(3, 4, 1))\n",
    "c = a.reshape(*a.shape[1:])\n",
    "d = b.reshape(*b.shape[:-1])\n",
    "print(f\"a.shape: {a.shape}\",\"\\n\",a)\n",
    "print(f\"b.shape: {b.shape}\\n\",b)\n",
    "print(f\"c.shape: {c.shape}\",\"\\n\",c,\"\\n\")\n",
    "print(f\"d.shape: {d.shape}\",\"\\n\",d)"
   ]
  },
  {
   "cell_type": "code",
   "execution_count": 13,
   "metadata": {},
   "outputs": [
    {
     "name": "stdout",
     "output_type": "stream",
     "text": [
      "a.shape: (3, 3)\n",
      " [[0 1 2]\n",
      " [3 4 5]\n",
      " [6 7 8]]\n",
      "row.shape: (3,) \n",
      " [3 4 5] \n",
      "\n",
      "col.shape: (3,) \n",
      " [1 4 7]\n"
     ]
    }
   ],
   "source": [
    "import numpy as np\n",
    "a = np.arange(9).reshape((3, 3))\n",
    "\n",
    "row, col = a[1, :], a[:, 1]\n",
    "print(f\"a.shape: {a.shape}\\n\",a)\n",
    "print(f\"row.shape: {row.shape}\",\"\\n\",row,\"\\n\")\n",
    "print(f\"col.shape: {col.shape}\",\"\\n\",col)"
   ]
  },
  {
   "cell_type": "code",
   "execution_count": 18,
   "metadata": {},
   "outputs": [
    {
     "name": "stdout",
     "output_type": "stream",
     "text": [
      "[[0 1 2 3 4 5 6 7 8]]\n",
      "[[0]\n",
      " [1]\n",
      " [2]\n",
      " [3]\n",
      " [4]\n",
      " [5]\n",
      " [6]\n",
      " [7]\n",
      " [8]]\n",
      "a.shape: (1, 9)\n",
      "b.shape: (9, 1)\n",
      "\n",
      "c.shape: (9,)\n",
      "d.shape: (9,)\n"
     ]
    }
   ],
   "source": [
    "import numpy as np\n",
    "a = np.arange(9).reshape((1, -1)) #행으로 flatten\n",
    "print(a)\n",
    "b = np.arange(9).reshape((-1, 1)) #열로 flatten\n",
    "print(b)\n",
    "c = a[0, :]\n",
    "d = b[:, 0]\n",
    "\n",
    "print(f\"a.shape: {a.shape}\")\n",
    "print(f\"b.shape: {b.shape}\\n\")\n",
    "print(f\"c.shape: {c.shape}\")\n",
    "print(f\"d.shape: {d.shape}\")"
   ]
  },
  {
   "cell_type": "code",
   "execution_count": 22,
   "metadata": {},
   "outputs": [
    {
     "name": "stdout",
     "output_type": "stream",
     "text": [
      "[[[1. 1. 1. 1.]\n",
      "  [1. 1. 1. 1.]\n",
      "  [1. 1. 1. 1.]]]\n",
      "[[1. 1. 1. 1.]\n",
      " [1. 1. 1. 1.]\n",
      " [1. 1. 1. 1.]]\n",
      "a.shape: (1, 3, 4)\n",
      "b.shape: (3, 4, 1)\n",
      "\n",
      "c.shape: (3, 4)\n",
      "d.shape: (3, 4)\n"
     ]
    }
   ],
   "source": [
    "import numpy as np\n",
    "a = np.ones(shape=(1, 3, 4))\n",
    "print(a)\n",
    "b = np.ones(shape=(3, 4, 1))\n",
    "c = a[0, ...]   #첫번째 dimension은 0으로 인덱싱하고 나머지는 다 가져오는걸로\n",
    "print(c)        \n",
    "d = b[..., 0]   #세번째 dimension은 0으로 인덱싱하고 나머지는 다 가져오는걸로 \n",
    "\n",
    "print(f\"a.shape: {a.shape}\")\n",
    "print(f\"b.shape: {b.shape}\\n\")\n",
    "print(f\"c.shape: {c.shape}\")\n",
    "print(f\"d.shape: {d.shape}\")\n"
   ]
  },
  {
   "cell_type": "code",
   "execution_count": 21,
   "metadata": {},
   "outputs": [
    {
     "name": "stdout",
     "output_type": "stream",
     "text": [
      "a.shape: (1, 3, 4)\n",
      "\n",
      "c.shape: (3, 4)\n",
      "d.shape: (3, 4)\n",
      "\n"
     ]
    }
   ],
   "source": [
    "import numpy as np\n",
    "a = np.ones(shape=(1, 3, 4))\n",
    "c = np.squeeze(a)\n",
    "d = a.squeeze()\n",
    "print(f\"a.shape: {a.shape}\\n\")\n",
    "print(f\"c.shape: {c.shape}\")\n",
    "print(f\"d.shape: {d.shape}\\n\")\n"
   ]
  },
  {
   "cell_type": "markdown",
   "metadata": {},
   "source": [
    "### 차원 바꾸기"
   ]
  },
  {
   "cell_type": "code",
   "execution_count": 26,
   "metadata": {},
   "outputs": [
    {
     "name": "stdout",
     "output_type": "stream",
     "text": [
      "[[[[-3.12320712 -2.0408872  -0.7575299  -0.75734289 -0.17620007\n",
      "    -0.04651948]\n",
      "   [ 1.92878872 -0.00646705  0.53550923  0.01411465  1.4353138\n",
      "     1.56675266]\n",
      "   [-2.0030063   0.07931311  0.87345427  0.4623239  -0.88293685\n",
      "     0.9604054 ]\n",
      "   [-0.7595232  -2.0005998   0.59005092  0.70985477 -0.41452226\n",
      "     1.35276911]\n",
      "   [ 2.08466379 -1.12150311  1.68153222 -1.2331681   0.78702429\n",
      "     0.7431335 ]]\n",
      "\n",
      "  [[ 0.77962106 -1.75436404 -0.62960782 -0.22759251 -1.02055762\n",
      "     1.01799954]\n",
      "   [ 0.74303142  0.35137391 -1.42972806  0.68308431 -0.7373042\n",
      "    -0.77915801]\n",
      "   [ 0.12319342  0.96197268  1.20050022 -1.27644863 -3.13353721\n",
      "     1.1238012 ]\n",
      "   [-0.37456618 -0.62401722 -0.34321403  0.26416757  1.74478737\n",
      "     0.15722047]\n",
      "   [ 0.25529466 -1.56805885 -1.23761285 -0.46165266 -0.5280214\n",
      "    -0.32621148]]\n",
      "\n",
      "  [[ 0.67913423 -0.42773426 -1.7446644  -0.50491728 -1.54003921\n",
      "    -1.29433113]\n",
      "   [-0.35214007  0.35691252  0.84500562 -0.01348388  1.30146538\n",
      "    -0.1340071 ]\n",
      "   [ 0.89792275  1.65712012  0.18545807  1.83921791 -1.32956915\n",
      "     0.53827245]\n",
      "   [ 0.07483827  0.9264511  -0.71302516 -0.07392136 -0.65675234\n",
      "     0.91846797]\n",
      "   [ 0.23434944 -0.75826501  1.45235502  1.10447989 -0.18042191\n",
      "    -0.13127554]]\n",
      "\n",
      "  [[-1.02420148  0.99608759  1.11017378 -1.72029838 -1.74292043\n",
      "    -0.83316016]\n",
      "   [ 0.35223985  0.99806902  0.70745665  0.48151429  0.17761016\n",
      "    -0.09119209]\n",
      "   [-0.03734122  0.70330182 -1.012766   -1.09974321  0.16304339\n",
      "     0.10842475]\n",
      "   [-0.4560026  -1.65304427 -0.15016367  0.89155341 -1.33256355\n",
      "     0.64363773]\n",
      "   [-0.75199484 -0.83568605  0.392284    0.82634046 -1.04711011\n",
      "     0.43329422]]]\n",
      "\n",
      "\n",
      " [[[-0.92436759 -1.78377036  1.37589761 -0.68667014 -0.74821443\n",
      "     1.01431685]\n",
      "   [-0.69417142 -0.71581777  0.30837643  1.50644898  1.51961131\n",
      "    -0.76246307]\n",
      "   [-0.10234026 -0.8806178   0.56294626  1.45644264  0.15190199\n",
      "    -0.27016892]\n",
      "   [-0.43661297  0.8903137   2.31349506 -0.66288081  1.52981057\n",
      "    -0.77316321]\n",
      "   [-1.76539276  0.37033936 -1.49996591  1.52896177 -0.51312201\n",
      "    -0.11480506]]\n",
      "\n",
      "  [[-0.76818812  0.18600353  0.78162335 -1.25344224  1.49283006\n",
      "    -0.40522234]\n",
      "   [ 1.49746689  0.09905824 -1.24247445  0.64783183 -1.08238414\n",
      "    -1.35083774]\n",
      "   [-1.11494192  0.27140794 -0.19602754  1.14609731  0.8948055\n",
      "     0.07973946]\n",
      "   [ 1.19625152 -0.50963744  1.03751408 -0.89410518  1.73454971\n",
      "    -0.91619692]\n",
      "   [-1.8091205  -0.43532572  1.5380551  -0.26437233 -2.32771839\n",
      "     1.19007485]]\n",
      "\n",
      "  [[-0.06023078  0.52782399  0.32029877 -1.59253355 -0.99452149\n",
      "     0.69349021]\n",
      "   [-0.55876691 -1.60066061  1.53815863 -0.4538982   1.03942314\n",
      "     0.18823488]\n",
      "   [-0.16760348  0.34559942 -1.24557963 -0.2018795  -0.27111804\n",
      "    -0.23708718]\n",
      "   [-0.91165735  0.54341679 -0.32400796 -1.21336698  0.19102094\n",
      "    -1.19353843]\n",
      "   [-0.66104373  0.23543533  0.31277663 -0.62892803  0.41473143\n",
      "     0.11833238]]\n",
      "\n",
      "  [[-0.12022116  1.53379485  0.16199379  1.83802226 -2.01623668\n",
      "    -0.09985292]\n",
      "   [ 0.92084618 -0.60713965  0.25506492 -0.20114669 -0.1042955\n",
      "    -0.87451395]\n",
      "   [ 1.63178023  1.2500665   0.98165441 -0.41020657 -0.58339662\n",
      "    -0.22252411]\n",
      "   [ 0.31293152  1.2097996  -0.01727831  0.07979647 -0.16340236\n",
      "    -0.49547377]\n",
      "   [ 0.61291374  0.39621434  1.67195013 -1.04883093  0.63121374\n",
      "    -0.04581075]]]\n",
      "\n",
      "\n",
      " [[[-0.36469412 -0.80064651 -0.65736317  0.05306122 -1.91022566\n",
      "    -1.49168771]\n",
      "   [ 0.65721448  0.14799276  1.67847094 -0.29403414  0.50074794\n",
      "     0.29301766]\n",
      "   [ 0.54955036 -0.12441295 -1.69648805  1.02928074  1.23958489\n",
      "     0.10097525]\n",
      "   [ 1.98014791 -0.06988705  1.82363948  0.35035773 -0.48646625\n",
      "    -0.17023011]\n",
      "   [ 0.148639    0.3093155   0.11355415 -1.33715973  2.45975457\n",
      "    -0.74749998]]\n",
      "\n",
      "  [[-0.8125439   1.8557502  -0.41491866  1.46855593 -0.54764024\n",
      "    -0.22587979]\n",
      "   [-1.83637874 -0.19559592  0.65770327  0.89514496  0.19005758\n",
      "     0.43375571]\n",
      "   [-0.83459795 -1.07421621 -1.67158628  0.69850654  1.04573244\n",
      "    -1.11038888]\n",
      "   [ 2.35406771 -0.09239366 -0.02161784 -0.22287381 -0.05557459\n",
      "     0.40605304]\n",
      "   [ 1.06870497 -0.29582266  0.07456895 -0.04587011 -1.67786432\n",
      "    -0.61866299]]\n",
      "\n",
      "  [[-1.95783962 -0.20129434 -1.47494533  1.19778216  0.34119505\n",
      "     0.71943004]\n",
      "   [ 0.51061737  0.44081006 -0.21718529 -0.38970475  0.77034857\n",
      "     0.0276197 ]\n",
      "   [-0.9002038   0.52344643  0.23555088  0.50158889  2.5541335\n",
      "    -0.40585281]\n",
      "   [-0.80070859  0.59300114 -0.03813818 -0.07991446 -1.11926446\n",
      "    -0.16189009]\n",
      "   [-1.04561993  0.45210823  0.5066325   0.37151292 -0.21780332\n",
      "     0.20080079]]\n",
      "\n",
      "  [[ 0.91678539 -0.12021671  0.71002386 -0.474802    1.95007626\n",
      "     0.15163037]\n",
      "   [ 1.3062078  -0.15076083 -0.32370394 -0.05869535 -0.76237045\n",
      "     0.90634372]\n",
      "   [-0.43103002 -2.35514695 -0.43024422 -0.41841366 -0.85810459\n",
      "    -0.27338827]\n",
      "   [-0.95959383 -0.87128575  1.9249863  -0.02387632  0.65585126\n",
      "    -0.7456291 ]\n",
      "   [ 1.69481741 -0.50220853 -0.14447882 -0.71798177  0.18680017\n",
      "    -0.77981437]]]] \n",
      "\n",
      "a.shape: (3, 4, 5, 6)\n",
      "\n",
      "b.shape: (4, 3, 5, 6)\n",
      "c.shape: (5, 4, 3, 6)\n",
      "d.shape: (6, 4, 5, 3)\n"
     ]
    }
   ],
   "source": [
    "import numpy as np\n",
    "a = np.random.normal(size=(3, 4, 5, 6))\n",
    "print(a,\"\\n\")\n",
    "b = np.swapaxes(a, 0, 1)   # 0번째 차원과 1번째 차원을 바꿔주세요 (3,4,5,6) ---> (4,3,5,6)\n",
    "c = np.swapaxes(a, 0, 2)\n",
    "d = np.swapaxes(a, 0, 3)\n",
    "print(f\"a.shape: {a.shape}\\n\")\n",
    "print(f\"b.shape: {b.shape}\")\n",
    "print(f\"c.shape: {c.shape}\")\n",
    "print(f\"d.shape: {d.shape}\")\n"
   ]
  },
  {
   "cell_type": "code",
   "execution_count": 27,
   "metadata": {},
   "outputs": [
    {
     "name": "stdout",
     "output_type": "stream",
     "text": [
      "a.shape: (3, 200, 100)\n",
      "\n",
      "b.shape: (100, 200, 3)\n"
     ]
    }
   ],
   "source": [
    "import numpy as np\n",
    "a = np.random.normal(size=(3, 200, 100))\n",
    "b = np.swapaxes(a, 0, -1)\n",
    "print(f\"a.shape: {a.shape}\\n\")\n",
    "print(f\"b.shape: {b.shape}\")\n"
   ]
  },
  {
   "cell_type": "code",
   "execution_count": 28,
   "metadata": {},
   "outputs": [
    {
     "name": "stdout",
     "output_type": "stream",
     "text": [
      "a.shape: (3, 4, 5, 6)\n",
      "\n",
      "b.shape: (4, 3, 5, 6)\n",
      "c.shape: (4, 5, 3, 6)\n",
      "d.shape: (4, 5, 6, 3)\n"
     ]
    }
   ],
   "source": [
    "import numpy as np\n",
    "a = np.random.normal(size=(3, 4, 5, 6))\n",
    "b = np.moveaxis(a, source=0, destination=1)\n",
    "c = np.moveaxis(a, source=0, destination=2)\n",
    "d = np.moveaxis(a, source=0, destination=-1)\n",
    "\n",
    "print(f\"a.shape: {a.shape}\\n\")\n",
    "print(f\"b.shape: {b.shape}\")\n",
    "print(f\"c.shape: {c.shape}\")\n",
    "print(f\"d.shape: {d.shape}\")\n"
   ]
  },
  {
   "cell_type": "code",
   "execution_count": 29,
   "metadata": {},
   "outputs": [
    {
     "name": "stdout",
     "output_type": "stream",
     "text": [
      "a.shape: (3, 4, 5, 6)\n",
      "\n",
      "b.shape: (4, 3, 5, 6)\n",
      "c.shape: (3, 5, 4, 6)\n",
      "d.shape: (3, 5, 6, 4)\n"
     ]
    }
   ],
   "source": [
    "import numpy as np\n",
    "a = np.random.normal(size=(3, 4, 5, 6))\n",
    "b = np.moveaxis(a, source=1, destination=0)\n",
    "c = np.moveaxis(a, source=1, destination=2)\n",
    "d = np.moveaxis(a, source=1, destination=-1)\n",
    "print(f\"a.shape: {a.shape}\\n\")\n",
    "print(f\"b.shape: {b.shape}\")\n",
    "print(f\"c.shape: {c.shape}\")\n",
    "print(f\"d.shape: {d.shape}\")\n"
   ]
  },
  {
   "cell_type": "code",
   "execution_count": 30,
   "metadata": {},
   "outputs": [
    {
     "name": "stdout",
     "output_type": "stream",
     "text": [
      "a.shape: (3, 4)\n",
      "\n",
      "b.shape: (4, 3)\n",
      "c.shape: (4, 3)\n"
     ]
    }
   ],
   "source": [
    "a = np.random.normal(size=(3, 4))\n",
    "b = np.transpose(a)\n",
    "c = a.T\n",
    "print(f\"a.shape: {a.shape}\\n\")\n",
    "print(f\"b.shape: {b.shape}\")\n",
    "print(f\"c.shape: {c.shape}\")"
   ]
  },
  {
   "cell_type": "code",
   "execution_count": 31,
   "metadata": {},
   "outputs": [
    {
     "name": "stdout",
     "output_type": "stream",
     "text": [
      "a.shape: (3, 4, 5, 6, 7)\n",
      "\n",
      "b.shape: (7, 6, 5, 4, 3)\n",
      "c.shape: (7, 6, 5, 4, 3)\n"
     ]
    }
   ],
   "source": [
    "a = np.random.normal(size=(3, 4, 5, 6, 7))\n",
    "b = np.transpose(a)\n",
    "c = a.T\n",
    "print(f\"a.shape: {a.shape}\\n\")\n",
    "print(f\"b.shape: {b.shape}\")\n",
    "print(f\"c.shape: {c.shape}\")\n"
   ]
  },
  {
   "cell_type": "code",
   "execution_count": 32,
   "metadata": {},
   "outputs": [
    {
     "name": "stdout",
     "output_type": "stream",
     "text": [
      "a.shape: (3, 4, 5)\n",
      "\n",
      "b.shape: (3, 4, 5)\n",
      "c.shape: (4, 5, 3)\n",
      "d.shape: (5, 3, 4)\n",
      "e.shape: (5, 4, 3)\n"
     ]
    }
   ],
   "source": [
    "import numpy as np\n",
    "a = np.random.normal(size=(3, 4, 5))\n",
    "b = np.transpose(a, axes=(0, 1, 2))\n",
    "c = np.transpose(a, axes=(1, 2, 0))\n",
    "d = np.transpose(a, axes=(2, 0, 1))\n",
    "e = np.transpose(a, axes=(2, 1, 0))\n",
    "print(f\"a.shape: {a.shape}\\n\")\n",
    "print(f\"b.shape: {b.shape}\")\n",
    "print(f\"c.shape: {c.shape}\")\n",
    "print(f\"d.shape: {d.shape}\")\n",
    "print(f\"e.shape: {e.shape}\")\n"
   ]
  },
  {
   "cell_type": "code",
   "execution_count": 33,
   "metadata": {},
   "outputs": [
    {
     "name": "stdout",
     "output_type": "stream",
     "text": [
      "a.shape: (3, 4, 5, 6)\n",
      "\n",
      "b.shape: (6, 5, 4, 3)\n"
     ]
    }
   ],
   "source": [
    "import numpy as np\n",
    "a = np.random.normal(size=(3, 4, 5, 6))\n",
    "b = np.transpose(a, axes=tuple(range(a.ndim))[::-1])\n",
    "print(f\"a.shape: {a.shape}\\n\")\n",
    "print(f\"b.shape: {b.shape}\")\n"
   ]
  },
  {
   "cell_type": "code",
   "execution_count": null,
   "metadata": {},
   "outputs": [],
   "source": []
  }
 ],
 "metadata": {
  "interpreter": {
   "hash": "b674431c1d39ef928ef270796425238bfb437e6432d715d69029c8bf72455e63"
  },
  "kernelspec": {
   "display_name": "Python 3.6.15 64-bit ('coin_deep': conda)",
   "language": "python",
   "name": "python3"
  },
  "language_info": {
   "codemirror_mode": {
    "name": "ipython",
    "version": 3
   },
   "file_extension": ".py",
   "mimetype": "text/x-python",
   "name": "python",
   "nbconvert_exporter": "python",
   "pygments_lexer": "ipython3",
   "version": "3.6.15"
  },
  "orig_nbformat": 4
 },
 "nbformat": 4,
 "nbformat_minor": 2
}
