{
 "cells": [
  {
   "cell_type": "markdown",
   "metadata": {},
   "source": [
    "## np.hstack \n",
    "## np.vstack"
   ]
  },
  {
   "cell_type": "code",
   "execution_count": 1,
   "metadata": {},
   "outputs": [
    {
     "name": "stdout",
     "output_type": "stream",
     "text": [
      "a: (4,)\n",
      "[4 1 1 0]\n",
      "b: (4,)\n",
      "[5 0 1 9]\n",
      "\n",
      "vstack: (2, 4)\n",
      "[[4 1 1 0]\n",
      " [5 0 1 9]]\n",
      "hstack: (8,)\n",
      "[4 1 1 0 5 0 1 9]\n"
     ]
    }
   ],
   "source": [
    "import numpy as np\n",
    "a = np.random.randint(0, 10, (4, ))\n",
    "b = np.random.randint(0, 10, (4, ))\n",
    "print(f\"a: {a.shape}\\n{a}\")\n",
    "print(f\"b: {b.shape}\\n{b}\\n\")\n",
    "\n",
    "vstack = np.vstack([a, b])\n",
    "hstack = np.hstack([a, b])\n",
    "print(f\"vstack: {vstack.shape}\\n{vstack}\")\n",
    "print(f\"hstack: {hstack.shape}\\n{hstack}\")"
   ]
  },
  {
   "cell_type": "code",
   "execution_count": 2,
   "metadata": {},
   "outputs": [
    {
     "name": "stdout",
     "output_type": "stream",
     "text": [
      "a: (1, 3)\n",
      "[[5 0 9]]\n",
      "b: (1, 3)\n",
      "[[0 6 8]]\n",
      "\n",
      "vstack: (2, 3)\n",
      "[[5 0 9]\n",
      " [0 6 8]]\n",
      "hstack: (1, 6)\n",
      "[[5 0 9 0 6 8]]\n"
     ]
    }
   ],
   "source": [
    "import numpy as np\n",
    "a = np.random.randint(0, 10, (1, 3))\n",
    "b = np.random.randint(0, 10, (1, 3))\n",
    "print(f\"a: {a.shape}\\n{a}\")\n",
    "print(f\"b: {b.shape}\\n{b}\\n\")\n",
    "\n",
    "vstack = np.vstack((a, b))\n",
    "hstack = np.hstack((a, b))\n",
    "print(f\"vstack: {vstack.shape}\\n{vstack}\")\n",
    "print(f\"hstack: {hstack.shape}\\n{hstack}\")"
   ]
  },
  {
   "cell_type": "markdown",
   "metadata": {},
   "source": [
    "#### 열로 계속 쌓고 싶으면 매트릭스 형태로 만들어 줘야함"
   ]
  },
  {
   "cell_type": "code",
   "execution_count": 5,
   "metadata": {},
   "outputs": [
    {
     "name": "stdout",
     "output_type": "stream",
     "text": [
      "a: (3, 1)\n",
      "[[1]\n",
      " [5]\n",
      " [4]]\n",
      "b: (3, 1)\n",
      "[[6]\n",
      " [9]\n",
      " [4]]\n",
      "\n",
      "vstack: (6, 1)\n",
      "[[1]\n",
      " [5]\n",
      " [4]\n",
      " [6]\n",
      " [9]\n",
      " [4]]\n",
      "hstack: (3, 2)\n",
      "[[1 6]\n",
      " [5 9]\n",
      " [4 4]]\n"
     ]
    }
   ],
   "source": [
    "import numpy as np\n",
    "a = np.random.randint(0, 10, (3, 1))   # 3,1은 매트릭스의 형태\n",
    "b = np.random.randint(0, 10, (3, 1))\n",
    "print(f\"a: {a.shape}\\n{a}\")\n",
    "print(f\"b: {b.shape}\\n{b}\\n\")\n",
    "\n",
    "vstack = np.vstack((a, b))\n",
    "hstack = np.hstack((a, b))\n",
    "print(f\"vstack: {vstack.shape}\\n{vstack}\")\n",
    "print(f\"hstack: {hstack.shape}\\n{hstack}\")"
   ]
  },
  {
   "cell_type": "code",
   "execution_count": 9,
   "metadata": {},
   "outputs": [
    {
     "name": "stdout",
     "output_type": "stream",
     "text": [
      "[] \n",
      "\n",
      "initial shape: (4, 0)\n",
      "\n",
      "iter/shape: 0/(4, 1)\n",
      "iter/shape: 1/(4, 2)\n",
      "iter/shape: 2/(4, 3)\n",
      "iter/shape: 3/(4, 4)\n",
      "iter/shape: 4/(4, 5)\n",
      "[[0.40025618 3.65710198 3.94579682 0.77776518 2.10613785]\n",
      " [0.41717278 1.86317397 4.92651397 3.73120005 2.88121359]\n",
      " [2.08649328 4.82296918 3.0957206  1.63743716 0.74514278]\n",
      " [4.84820136 0.63528519 1.20916671 2.90215017 3.6688356 ]]\n"
     ]
    }
   ],
   "source": [
    "import numpy as np\n",
    "\n",
    "dataset = np.empty((4, 0))\n",
    "print(dataset,\"\\n\")\n",
    "print(f\"initial shape: {dataset.shape}\\n\")\n",
    "\n",
    "for iter in range(5):\n",
    " data_sample = np.random.uniform(0, 5, (4, 1))\n",
    " dataset = np.hstack((dataset, data_sample))\n",
    " print(f\"iter/shape: {iter}/{dataset.shape}\")\n",
    "print(dataset)"
   ]
  },
  {
   "cell_type": "code",
   "execution_count": 10,
   "metadata": {},
   "outputs": [
    {
     "name": "stdout",
     "output_type": "stream",
     "text": [
      "a: (1, 4)\n",
      "[[2 0 6 0]]\n",
      "b: (1, 4)\n",
      "[[1 7 5 4]]\n",
      "c: (1, 4)\n",
      "[[7 2 4 2]]\n",
      "\n",
      "vstack: (3, 4)\n",
      "[[2 0 6 0]\n",
      " [1 7 5 4]\n",
      " [7 2 4 2]]\n"
     ]
    }
   ],
   "source": [
    "import numpy as np\n",
    "a = np.random.randint(0, 10, (1, 4))\n",
    "b = np.random.randint(0, 10, (1, 4))\n",
    "c = np.random.randint(0, 10, (1, 4))\n",
    "\n",
    "arr_list = [a, b, c]\n",
    "vstack = np.vstack(arr_list)\n",
    "\n",
    "\n",
    "print(f\"a: {a.shape}\\n{a}\")\n",
    "print(f\"b: {b.shape}\\n{b}\")\n",
    "print(f\"c: {c.shape}\\n{c}\\n\")\n",
    "print(f\"vstack: {vstack.shape}\\n{vstack}\")"
   ]
  },
  {
   "cell_type": "code",
   "execution_count": 15,
   "metadata": {},
   "outputs": [
    {
     "name": "stdout",
     "output_type": "stream",
     "text": [
      "final shape: (5, 4) \n",
      "\n",
      "[array([[0.58649644, 1.32640551, 3.42655068, 3.80594075]]), array([[0.28907792, 2.32572935, 4.38291137, 4.53754518]]), array([[3.78483492, 2.40455048, 4.89649814, 4.52780665]]), array([[1.89498549, 3.59163785, 0.57564122, 0.60889416]]), array([[3.66475499, 1.53776157, 3.10867765, 2.8032529 ]])] \n",
      "\n",
      "[[0.58649644 1.32640551 3.42655068 3.80594075]\n",
      " [0.28907792 2.32572935 4.38291137 4.53754518]\n",
      " [3.78483492 2.40455048 4.89649814 4.52780665]\n",
      " [1.89498549 3.59163785 0.57564122 0.60889416]\n",
      " [3.66475499 1.53776157 3.10867765 2.8032529 ]]\n"
     ]
    }
   ],
   "source": [
    "import numpy as np\n",
    "dataset_tmp = list()\n",
    "for iter in range(5):\n",
    " data_sample = np.random.uniform(0, 5, (1, 4))\n",
    " dataset_tmp.append(data_sample)\n",
    "dataset = np.vstack(dataset_tmp)\n",
    "print(f\"final shape: {dataset.shape}\",\"\\n\")\n",
    "print(dataset_tmp,\"\\n\")\n",
    "print(dataset)"
   ]
  },
  {
   "cell_type": "markdown",
   "metadata": {},
   "source": [
    "### concatenate"
   ]
  },
  {
   "cell_type": "code",
   "execution_count": 16,
   "metadata": {},
   "outputs": [
    {
     "name": "stdout",
     "output_type": "stream",
     "text": [
      "a: (1, 3)\n",
      "[[6 5 5]]\n",
      "b: (1, 3)\n",
      "[[2 2 4]]\n",
      "\n",
      "axis0: (2, 3)\n",
      "[[6 5 5]\n",
      " [2 2 4]]\n",
      "axis1: (1, 6)\n",
      "[[6 5 5 2 2 4]]\n",
      "axis_n1: (1, 6)\n",
      "[[6 5 5 2 2 4]]\n"
     ]
    }
   ],
   "source": [
    "import numpy as np\n",
    "a = np.random.randint(0, 10, (1, 3))\n",
    "b = np.random.randint(0, 10, (1, 3))\n",
    "axis0 = np.concatenate([a, b], axis=0)\n",
    "axis1 = np.concatenate([a, b], axis=1)\n",
    "axis_n1 = np.concatenate([a, b], axis=-1)\n",
    "\n",
    "print(f\"a: {a.shape}\\n{a}\")\n",
    "print(f\"b: {b.shape}\\n{b}\\n\")\n",
    "print(f\"axis0: {axis0.shape}\\n{axis0}\")\n",
    "print(f\"axis1: {axis1.shape}\\n{axis1}\")\n",
    "print(f\"axis_n1: {axis_n1.shape}\\n{axis_n1}\")\n"
   ]
  },
  {
   "cell_type": "code",
   "execution_count": 18,
   "metadata": {},
   "outputs": [
    {
     "name": "stdout",
     "output_type": "stream",
     "text": [
      "a: (3, 4)\n",
      "[[7 2 1 0]\n",
      " [7 1 1 3]\n",
      " [9 3 7 1]]\n",
      "b: (3, 2)\n",
      "[[2 7]\n",
      " [0 1]\n",
      " [6 3]]\n",
      "\n",
      "concat: (3, 6)\n",
      "[[7 2 1 0 2 7]\n",
      " [7 1 1 3 0 1]\n",
      " [9 3 7 1 6 3]]\n"
     ]
    }
   ],
   "source": [
    "import numpy as np\n",
    "a = np.random.randint(0, 10, (3, 4))\n",
    "b = np.random.randint(0, 10, (3, 2)) \n",
    "concat = np.concatenate([a, b], axis=1)\n",
    "print(f\"a: {a.shape}\\n{a}\")\n",
    "print(f\"b: {b.shape}\\n{b}\\n\")\n",
    "print(f\"concat: {concat.shape}\\n{concat}\")\n"
   ]
  },
  {
   "cell_type": "code",
   "execution_count": 24,
   "metadata": {},
   "outputs": [
    {
     "name": "stdout",
     "output_type": "stream",
     "text": [
      "[[[9 9 2 1 2]\n",
      "  [9 6 1 7 5]\n",
      "  [4 2 2 3 8]\n",
      "  [9 2 2 8 9]]\n",
      "\n",
      " [[4 4 4 5 7]\n",
      "  [5 6 7 0 3]\n",
      "  [0 3 6 4 1]\n",
      "  [5 7 4 2 5]]\n",
      "\n",
      " [[5 6 8 4 8]\n",
      "  [1 3 5 4 1]\n",
      "  [8 8 2 2 1]\n",
      "  [3 1 3 2 9]]]\n",
      "concat0: (13, 4, 5)\n",
      "concat1: (3, 14, 5)\n",
      "concat2: (3, 4, 15)\n"
     ]
    }
   ],
   "source": [
    "import numpy as np\n",
    "a = np.random.randint(0, 10, (3, 4, 5))\n",
    "print(a)\n",
    "\n",
    "b = np.random.randint(0, 10, (10, 4, 5))\n",
    "concat0 = np.concatenate([a, b], axis=0)\n",
    "print(f\"concat0: {concat0.shape}\")\n",
    "\n",
    "b = np.random.randint(0, 10, (3, 10, 5))\n",
    "concat1 = np.concatenate([a, b], axis=1)\n",
    "print(f\"concat1: {concat1.shape}\")\n",
    "\n",
    "b= np.random.randint(0,10,(3,4,10))\n",
    "concat2 = np.concatenate([a, b], axis=2)\n",
    "print(f\"concat2: {concat2.shape}\")"
   ]
  },
  {
   "cell_type": "code",
   "execution_count": 27,
   "metadata": {},
   "outputs": [
    {
     "name": "stdout",
     "output_type": "stream",
     "text": [
      "concat: (100, 4)\n",
      "concat: (4, 100)\n"
     ]
    }
   ],
   "source": [
    "import numpy as np\n",
    "\n",
    "dataset_tmp = list()\n",
    "for iter in range(100):\n",
    " data_sample = np.random.uniform(0, 5, (1, 4))\n",
    " dataset_tmp.append(data_sample)\n",
    "concat = np.concatenate(dataset_tmp, axis=0)\n",
    "print(f\"concat: {concat.shape}\")\n",
    "\n",
    "dataset_tmp = list()\n",
    "for iter in range(100):\n",
    " data_sample = np.random.uniform(0, 5, (4, 1))\n",
    " dataset_tmp.append(data_sample)\n",
    "concat = np.concatenate(dataset_tmp, axis=1)\n",
    "print(f\"concat: {concat.shape}\")\n"
   ]
  },
  {
   "cell_type": "code",
   "execution_count": 35,
   "metadata": {},
   "outputs": [
    {
     "name": "stdout",
     "output_type": "stream",
     "text": [
      "[[6 9]\n",
      " [4 1]]\n",
      "[[3 7]\n",
      " [3 9]]\n",
      "[[1 9]\n",
      " [0 8]] \n",
      "\n",
      "(2, 2, 3)\n",
      "[[[6 3 1]\n",
      "  [9 7 9]]\n",
      "\n",
      " [[4 3 0]\n",
      "  [1 9 8]]]\n"
     ]
    }
   ],
   "source": [
    "\n",
    "R = np.random.randint(0, 10, (2, 2))\n",
    "print(R)\n",
    "G = np.random.randint(0, 10, size=R.shape)\n",
    "print(G)\n",
    "B = np.random.randint(0, 10, size=R.shape)\n",
    "print(B,\"\\n\")\n",
    "image = np.dstack([R, G, B])\n",
    "print(image.shape)\n",
    "print(image)"
   ]
  },
  {
   "cell_type": "markdown",
   "metadata": {},
   "source": [
    "### 조금 더 general 하게 사용 가능 (고차원 텐서에서)"
   ]
  },
  {
   "cell_type": "code",
   "execution_count": 37,
   "metadata": {},
   "outputs": [
    {
     "name": "stdout",
     "output_type": "stream",
     "text": [
      "axis=0: (3, 100, 200, 300)\n",
      "axis=1: (100, 3, 200, 300)\n",
      "axis=2: (100, 200, 3, 300)\n",
      "axis=3: (100, 200, 300, 3)\n"
     ]
    }
   ],
   "source": [
    "import numpy as np\n",
    "a = np.random.randint(0, 10, (100, 200, 300))\n",
    "b = np.random.randint(0, 10, (100, 200, 300))\n",
    "c = np.random.randint(0, 10, (100, 200, 300))\n",
    "\n",
    "print(\"axis=0:\", np.stack([a, b, c], axis=0).shape)\n",
    "print(\"axis=1:\", np.stack([a, b, c], axis=1).shape)\n",
    "print(\"axis=2:\", np.stack([a, b, c], axis=2).shape)\n",
    "print(\"axis=3:\", np.stack([a, b, c], axis=3).shape)\n"
   ]
  }
 ],
 "metadata": {
  "interpreter": {
   "hash": "b674431c1d39ef928ef270796425238bfb437e6432d715d69029c8bf72455e63"
  },
  "kernelspec": {
   "display_name": "Python 3.6.15 64-bit ('coin_deep': conda)",
   "language": "python",
   "name": "python3"
  },
  "language_info": {
   "codemirror_mode": {
    "name": "ipython",
    "version": 3
   },
   "file_extension": ".py",
   "mimetype": "text/x-python",
   "name": "python",
   "nbconvert_exporter": "python",
   "pygments_lexer": "ipython3",
   "version": "3.6.15"
  },
  "orig_nbformat": 4
 },
 "nbformat": 4,
 "nbformat_minor": 2
}
