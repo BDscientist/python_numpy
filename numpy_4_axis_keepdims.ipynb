{
 "cells": [
  {
   "cell_type": "markdown",
   "metadata": {},
   "source": [
    "## axis and keepdims augment"
   ]
  },
  {
   "cell_type": "code",
   "execution_count": 2,
   "metadata": {},
   "outputs": [
    {
     "name": "stdout",
     "output_type": "stream",
     "text": [
      "ndarray: (3, 4)\n",
      "[[ 0  1  2  3]\n",
      " [ 4  5  6  7]\n",
      " [ 8  9 10 11]]\n",
      "ndarray.sum(axis=0): (4,)\n",
      "[12 15 18 21]\n"
     ]
    }
   ],
   "source": [
    "import numpy as np\n",
    "a = np.arange(12).reshape((3, -1))\n",
    "sum_ = a.sum(axis=0)\n",
    "print(\"ndarray: {}\\n{}\".format(a.shape, a))\n",
    "print(\"ndarray.sum(axis=0): {}\\n{}\".format(sum_.shape, sum_))"
   ]
  },
  {
   "cell_type": "code",
   "execution_count": 3,
   "metadata": {},
   "outputs": [
    {
     "name": "stdout",
     "output_type": "stream",
     "text": [
      "ndarray: (3, 4)\n",
      "[[ 0  1  2  3]\n",
      " [ 4  5  6  7]\n",
      " [ 8  9 10 11]]\n",
      "ndarray.sum(axis=1): (3,)\n",
      "[ 6 22 38]\n"
     ]
    }
   ],
   "source": [
    "import numpy as np\n",
    "a = np.arange(12).reshape((3, -1))\n",
    "sum_ = a.sum(axis=1)\n",
    "print(\"ndarray: {}\\n{}\".format(a.shape, a))\n",
    "print(\"ndarray.sum(axis=1): {}\\n{}\".format(sum_.shape, sum_))"
   ]
  },
  {
   "cell_type": "markdown",
   "metadata": {},
   "source": [
    "#### 브로드캐스팅을 하려면 예를들어 (3,) ---> (3,1)로 변경해줘야 함.    -----> keepdims 사용\n",
    "#### 하지만 axis를 통해 나온 값들은 대부분(3,) 임"
   ]
  },
  {
   "cell_type": "code",
   "execution_count": 4,
   "metadata": {},
   "outputs": [
    {
     "name": "stdout",
     "output_type": "stream",
     "text": [
      "scores: (3, 4)\n",
      "[[ 0  1  2  3]\n",
      " [ 4  5  6  7]\n",
      " [ 8  9 10 11]]\n",
      "sum_class: (4,)\n",
      "[12 15 18 21]\n",
      "sum_student: (3,)\n",
      "[ 6 22 38]\n"
     ]
    }
   ],
   "source": [
    "import numpy as np\n",
    "a = np.arange(12).reshape((3, -1))\n",
    "sum_class = np.sum(a, axis=0)\n",
    "sum_student = np.sum(a, axis=1)\n",
    "\n",
    "print(\"scores: {}\\n{}\".format(a.shape, a))\n",
    "print(\"sum_class: {}\\n{}\".format(sum_class.shape,sum_class))\n",
    "print(\"sum_student: {}\\n{}\".format(sum_student.shape,sum_student))"
   ]
  },
  {
   "cell_type": "markdown",
   "metadata": {},
   "source": [
    "### keepdims 사용 ---> 브로드캐스팅을 위해서"
   ]
  },
  {
   "cell_type": "code",
   "execution_count": 5,
   "metadata": {},
   "outputs": [
    {
     "name": "stdout",
     "output_type": "stream",
     "text": [
      "scores: (3, 4)\n",
      "[[ 0  1  2  3]\n",
      " [ 4  5  6  7]\n",
      " [ 8  9 10 11]] \n",
      "\n",
      "sum_class: (1, 4)\n",
      "[[12 15 18 21]] \n",
      "\n",
      "sum_student: (3, 1)\n",
      "[[ 6]\n",
      " [22]\n",
      " [38]] \n",
      "\n"
     ]
    }
   ],
   "source": [
    "import numpy as np\n",
    "a = np.arange(12).reshape((3, -1))\n",
    "sum_class = np.sum(a, axis=0, keepdims=True)\n",
    "sum_student = np.sum(a, axis=1, keepdims=True)\n",
    "\n",
    "print(\"scores: {}\\n{}\".format(a.shape, a),\"\\n\")\n",
    "print(\"sum_class: {}\\n{}\".format(sum_class.shape,sum_class),\"\\n\")\n",
    "print(\"sum_student: {}\\n{}\".format(sum_student.shape,sum_student),\"\\n\")"
   ]
  },
  {
   "cell_type": "code",
   "execution_count": 9,
   "metadata": {},
   "outputs": [
    {
     "name": "stdout",
     "output_type": "stream",
     "text": [
      "Shapes:  \n",
      "\n",
      "(3, 4) (1, 4) (3, 1) \n",
      "\n",
      "scores :  \n",
      " [[64 80  8 11]\n",
      " [16 85  2 38]\n",
      " [60 31 34  1]] \n",
      "\n",
      "Mean subtraction by classes\n",
      " [[ 17.33333333  14.66666667  -6.66666667  -5.66666667]\n",
      " [-30.66666667  19.66666667 -12.66666667  21.33333333]\n",
      " [ 13.33333333 -34.33333333  19.33333333 -15.66666667]] \n",
      "\n",
      "Mean subtraction by students\n",
      " [[ 23.25  39.25 -32.75 -29.75]\n",
      " [-19.25  49.75 -33.25   2.75]\n",
      " [ 28.5   -0.5    2.5  -30.5 ]]\n"
     ]
    }
   ],
   "source": [
    "import numpy as np\n",
    "n_student, n_class = 3, 4\n",
    "m_score, M_score = 0, 100\n",
    "scores = np.random.randint(low=m_score,high=M_score,size=(n_student,n_class))\n",
    "mean_class = np.mean(scores, axis=0, keepdims=True)\n",
    "mean_student = np.mean(scores, axis=1, keepdims=True)\n",
    "\n",
    "print(\"Shapes: \",\"\\n\")\n",
    "print(scores.shape, mean_class.shape, mean_student.shape, '\\n')\n",
    "print(\"scores : \",\"\\n\", scores, \"\\n\")\n",
    "print(\"Mean subtraction by classes\\n\", scores - mean_class,\"\\n\")\n",
    "print(\"Mean subtraction by students\\n\", scores - mean_student)"
   ]
  },
  {
   "cell_type": "code",
   "execution_count": 10,
   "metadata": {},
   "outputs": [
    {
     "name": "stdout",
     "output_type": "stream",
     "text": [
      "ndarray: (2, 3, 4)\n",
      "[[[ 0  1  2  3]\n",
      "  [ 4  5  6  7]\n",
      "  [ 8  9 10 11]]\n",
      "\n",
      " [[12 13 14 15]\n",
      "  [16 17 18 19]\n",
      "  [20 21 22 23]]]\n",
      "ndarray.sum(axis=0): (3, 4)\n",
      "[[12 14 16 18]\n",
      " [20 22 24 26]\n",
      " [28 30 32 34]]\n"
     ]
    }
   ],
   "source": [
    "import numpy as np\n",
    "a = np.arange(2*3*4).reshape((2, 3, 4))\n",
    "sum_ = a.sum(axis=0)\n",
    "print(\"ndarray: {}\\n{}\".format(a.shape, a))\n",
    "print(\"ndarray.sum(axis=0): {}\\n{}\".format(sum_.shape, sum_))"
   ]
  },
  {
   "cell_type": "markdown",
   "metadata": {},
   "source": [
    "### keepdims를 적용안했을때와 했을때의 차이"
   ]
  },
  {
   "cell_type": "code",
   "execution_count": 13,
   "metadata": {},
   "outputs": [
    {
     "name": "stdout",
     "output_type": "stream",
     "text": [
      "ndarray: (2, 3, 4)\n",
      "[[[ 0  1  2  3]\n",
      "  [ 4  5  6  7]\n",
      "  [ 8  9 10 11]]\n",
      "\n",
      " [[12 13 14 15]\n",
      "  [16 17 18 19]\n",
      "  [20 21 22 23]]] \n",
      "\n",
      "axis=1: (2, 4)\n",
      "[[12 15 18 21]\n",
      " [48 51 54 57]] \n",
      "\n",
      "axis=1, keepdims=True: (2, 1, 4)\n",
      "[[[12 15 18 21]]\n",
      "\n",
      " [[48 51 54 57]]]\n"
     ]
    }
   ],
   "source": [
    "import numpy as np\n",
    "a = np.arange(2*3*4).reshape((2, 3, 4)) \n",
    "sum_ = a.sum(axis=1)\n",
    "sum_k = a.sum(axis=1, keepdims=True)\n",
    "\n",
    "print(\"ndarray: {}\\n{}\".format(a.shape, a),\"\\n\")\n",
    "print(\"axis=1: {}\\n{}\".format(sum_.shape, sum_),\"\\n\")\n",
    "print(\"axis=1, keepdims=True: {}\\n{}\"\\\n",
    "    .format(sum_k.shape,sum_k))"
   ]
  },
  {
   "cell_type": "code",
   "execution_count": 14,
   "metadata": {},
   "outputs": [
    {
     "name": "stdout",
     "output_type": "stream",
     "text": [
      "ndarray: (2, 3, 4)\n",
      "[[[ 0  1  2  3]\n",
      "  [ 4  5  6  7]\n",
      "  [ 8  9 10 11]]\n",
      "\n",
      " [[12 13 14 15]\n",
      "  [16 17 18 19]\n",
      "  [20 21 22 23]]] \n",
      "\n",
      "axis=2: (2, 3)\n",
      "[[ 6 22 38]\n",
      " [54 70 86]] \n",
      "\n",
      "axis=2, keepdims=True: (2, 3, 1)\n",
      "[[[ 6]\n",
      "  [22]\n",
      "  [38]]\n",
      "\n",
      " [[54]\n",
      "  [70]\n",
      "  [86]]]\n"
     ]
    }
   ],
   "source": [
    "import numpy as np\n",
    "a = np.arange(2*3*4).reshape((2, 3, 4))\n",
    "sum_ = a.sum(axis=2)\n",
    "sum_k = a.sum(axis=2, keepdims=True)\n",
    "print(\"ndarray: {}\\n{}\".format(a.shape, a),\"\\n\")\n",
    "print(\"axis=2: {}\\n{}\".format(sum_.shape, sum_),\"\\n\")\n",
    "print(\"axis=2, keepdims=True: {}\\n{}\"\\\n",
    " .format(sum_k.shape,sum_k)) "
   ]
  },
  {
   "cell_type": "markdown",
   "metadata": {},
   "source": [
    "### 3차원 텐서 ( 모의고사, 학생, 과목) \n",
    "####  axis=0은 학생 * 과목에 대한 평균, axis=1은 모의고사 * 과목에 대한 평균  "
   ]
  },
  {
   "cell_type": "code",
   "execution_count": 16,
   "metadata": {},
   "outputs": [
    {
     "name": "stdout",
     "output_type": "stream",
     "text": [
      "scores: \n",
      " [[[99 52 64 49]\n",
      "  [69 86 85 92]\n",
      "  [ 5  5 70 83]]\n",
      "\n",
      " [[57 66  0 82]\n",
      "  [82 49  1 25]\n",
      "  [94 30  7  8]]\n",
      "\n",
      " [[39 76 56 99]\n",
      "  [57 10 20 88]\n",
      "  [85 45 86 74]]\n",
      "\n",
      " [[33 78 70 82]\n",
      "  [35 81 37 46]\n",
      "  [86 41 36 69]]] \n",
      "\n",
      "score mean:  (3, 4) \n",
      " [[57.   68.   47.5  78.  ]\n",
      " [60.75 56.5  35.75 62.75]\n",
      " [67.5  30.25 49.75 58.5 ]]\n",
      "score mean:  (4, 4) \n",
      " [[57.66666667 47.66666667 73.         74.66666667]\n",
      " [77.66666667 48.33333333  2.66666667 38.33333333]\n",
      " [60.33333333 43.66666667 54.         87.        ]\n",
      " [51.33333333 66.66666667 47.66666667 65.66666667]]\n"
     ]
    }
   ],
   "source": [
    "import numpy as np\n",
    "n_test_time, n_student, n_class = 4, 3, 4\n",
    "m_score, M_score = 0, 100\n",
    "scores = np.random.randint(low=m_score,high=M_score,size=(n_test_time,n_student,n_class))\n",
    "print(\"scores: \\n\", scores,\"\\n\")\n",
    "\n",
    "score_mean = np.mean(scores, axis=0)\n",
    "print(\"score mean: \",score_mean.shape, '\\n',score_mean)\n",
    "score_mean = np.mean(scores, axis=1)\n",
    "print(\"score mean: \",score_mean.shape, '\\n',score_mean)"
   ]
  },
  {
   "cell_type": "code",
   "execution_count": 17,
   "metadata": {},
   "outputs": [
    {
     "name": "stdout",
     "output_type": "stream",
     "text": [
      "Shape of original image: (3, 100, 200) \n",
      "\n",
      "Shape of gray-scaled image: (100, 200) \n",
      "\n",
      "Shape of gray-scaled image: (3, 100)\n"
     ]
    }
   ],
   "source": [
    "import numpy as np\n",
    "C, H, W = 3, 100, 200\n",
    "# (C, H, W) case\n",
    "images = np.random.randint(0, 256,\n",
    " size=(C, H, W))\n",
    "print(\"Shape of original image:\", images.shape,\"\\n\")\n",
    "\n",
    "gray_image = np.mean(images, axis=0)\n",
    "print(\"Shape of gray-scaled image:\", gray_image.shape, '\\n')\n",
    "gray_image = np.mean(images, axis=-1)\n",
    "print(\"Shape of gray-scaled image:\", gray_image.shape)\n"
   ]
  },
  {
   "cell_type": "code",
   "execution_count": null,
   "metadata": {},
   "outputs": [],
   "source": []
  },
  {
   "cell_type": "code",
   "execution_count": null,
   "metadata": {},
   "outputs": [],
   "source": []
  },
  {
   "cell_type": "code",
   "execution_count": null,
   "metadata": {},
   "outputs": [],
   "source": []
  },
  {
   "cell_type": "code",
   "execution_count": null,
   "metadata": {},
   "outputs": [],
   "source": []
  },
  {
   "cell_type": "code",
   "execution_count": null,
   "metadata": {},
   "outputs": [],
   "source": []
  }
 ],
 "metadata": {
  "interpreter": {
   "hash": "b674431c1d39ef928ef270796425238bfb437e6432d715d69029c8bf72455e63"
  },
  "kernelspec": {
   "display_name": "Python 3.6.15 64-bit ('coin_deep': conda)",
   "language": "python",
   "name": "python3"
  },
  "language_info": {
   "codemirror_mode": {
    "name": "ipython",
    "version": 3
   },
   "file_extension": ".py",
   "mimetype": "text/x-python",
   "name": "python",
   "nbconvert_exporter": "python",
   "pygments_lexer": "ipython3",
   "version": "3.6.15"
  },
  "orig_nbformat": 4
 },
 "nbformat": 4,
 "nbformat_minor": 2
}
