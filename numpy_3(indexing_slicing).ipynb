{
 "cells": [
  {
   "cell_type": "markdown",
   "metadata": {},
   "source": [
    "## Indexing and Slicing"
   ]
  },
  {
   "cell_type": "code",
   "execution_count": 1,
   "metadata": {},
   "outputs": [
    {
     "name": "stdout",
     "output_type": "stream",
     "text": [
      "ndarray: \n",
      "[0 1 2 3 4 5 6 7 8 9]\n",
      "\n",
      "a[0] :  0\n",
      "a[2] :  2\n",
      "a[-1] :  9\n",
      "a[-2] :  8\n"
     ]
    }
   ],
   "source": [
    "import numpy as np\n",
    "a = np.arange(10)\n",
    "print(f\"ndarray: \\n{a}\\n\")\n",
    "print(\"a[0] : \", a[0])\n",
    "print(\"a[2] : \", a[2])\n",
    "print(\"a[-1] : \", a[-1]) # the last element\n",
    "print(\"a[-2] : \", a[-2]) # the 2nd last element"
   ]
  },
  {
   "cell_type": "code",
   "execution_count": 2,
   "metadata": {},
   "outputs": [
    {
     "name": "stdout",
     "output_type": "stream",
     "text": [
      "ndarray: \n",
      "[0 1 2 3 4 5 6 7 8 9]\n",
      "\n",
      "a[0:3] :  [0 1 2]\n",
      "a[3:7] :  [3 4 5 6]\n",
      "a[5:-1] :  [5 6 7 8]\n",
      "ndarray: \n",
      "[0 1 2 3 4 5 6 7 8 9]\n",
      "\n",
      "a[2:] :  [2 3 4 5 6 7 8 9]\n",
      "a[-2:] :  [8 9]\n",
      "a[:5] :  [0 1 2 3 4]\n",
      "a[:-3] :  [0 1 2 3 4 5 6]\n",
      "a[:] :  [0 1 2 3 4 5 6 7 8 9]\n"
     ]
    }
   ],
   "source": [
    "\n",
    "print(f\"ndarray: \\n{a}\\n\")\n",
    "print(\"a[0:3] : \", a[0:3])\n",
    "print(\"a[3:7] : \", a[3:7])\n",
    "print(\"a[5:-1] : \", a[5:-1])\n",
    "print(f\"ndarray: \\n{a}\\n\")\n",
    "print(\"a[2:] : \", a[2:])\n",
    "print(\"a[-2:] : \", a[-2:]) # the last two elements\n",
    "print(\"a[:5] : \", a[:5])\n",
    "print(\"a[:-3] : \", a[:-3])\n",
    "print(\"a[:] : \", a[:])"
   ]
  },
  {
   "cell_type": "markdown",
   "metadata": {},
   "source": [
    "#### [start : end : stop]"
   ]
  },
  {
   "cell_type": "code",
   "execution_count": 3,
   "metadata": {},
   "outputs": [
    {
     "name": "stdout",
     "output_type": "stream",
     "text": [
      "ndarray: \n",
      "[0 1 2 3 4 5 6 7 8 9]\n",
      "\n",
      "a[2:7:2] :  [2 4 6]\n",
      "a[::3] :  [0 3 6 9]\n"
     ]
    }
   ],
   "source": [
    "import numpy as np\n",
    "a = np.arange(10)\n",
    "print(f\"ndarray: \\n{a}\\n\")\n",
    "print(\"a[2:7:2] : \", a[2:7:2])\n",
    "print(\"a[::3] : \", a[::3])"
   ]
  },
  {
   "cell_type": "code",
   "execution_count": 4,
   "metadata": {},
   "outputs": [
    {
     "name": "stdout",
     "output_type": "stream",
     "text": [
      "ndarray: \n",
      "[0 1 2 3 4 5 6 7 8 9]\n",
      "\n",
      "a[7:2:-1] :  [7 6 5 4 3]\n",
      "a[::-1] :  [9 8 7 6 5 4 3 2 1 0]\n",
      "a[8:3:-2] :  [8 6 4]\n",
      "a[::-3] :  [9 6 3 0]\n"
     ]
    }
   ],
   "source": [
    "a = np.arange(10)\n",
    "print(f\"ndarray: \\n{a}\\n\")\n",
    "print(\"a[7:2:-1] : \", a[7:2:-1])\n",
    "print(\"a[::-1] : \", a[::-1])\n",
    "print(\"a[8:3:-2] : \", a[8:3:-2])\n",
    "print(\"a[::-3] : \", a[::-3])"
   ]
  },
  {
   "cell_type": "code",
   "execution_count": 5,
   "metadata": {},
   "outputs": [
    {
     "name": "stdout",
     "output_type": "stream",
     "text": [
      "ndarray: \n",
      "[0 1 2 3 4 5 6 7 8 9]\n",
      "\n",
      "[0 3 6 9]\n",
      "[0 3 6 9]\n",
      "[0 3 6 9]\n"
     ]
    }
   ],
   "source": [
    "import numpy as np\n",
    "a = np.arange(10)\n",
    "indices = np.array([0, 3, 6, -1])\n",
    "\n",
    "print(f\"ndarray: \\n{a}\\n\")\n",
    "print(a[[0, 3, 6, -1]])\n",
    "print(a[indices])\n",
    "print(a[a%3==0])"
   ]
  },
  {
   "cell_type": "markdown",
   "metadata": {},
   "source": [
    "#### list 와 numnpy 비교\n",
    "##### numpy 효율성"
   ]
  },
  {
   "cell_type": "code",
   "execution_count": 7,
   "metadata": {},
   "outputs": [
    {
     "name": "stdout",
     "output_type": "stream",
     "text": [
      "[1, 2, 3, 4, 5, 6, 7, 8, 9, 10]\n",
      "[0, 0, 0, 0, 0, 6, 7, 8, 9, 10]\n",
      "[ 1  2  3  4  5  6  7  8  9 10]\n",
      "[ 0  0  0  0  0  6  7  8  9 10]\n"
     ]
    }
   ],
   "source": [
    "a = list(range(1, 11))\n",
    "print(a)\n",
    "\n",
    "for data_idx in range(5):\n",
    " a[data_idx] = 0\n",
    "print(a)\n",
    "\n",
    "\n",
    "a = np.arange(1, 11)\n",
    "print(a)\n",
    "\n",
    "a[:5] = 0\n",
    "print(a)"
   ]
  },
  {
   "cell_type": "code",
   "execution_count": 8,
   "metadata": {},
   "outputs": [
    {
     "name": "stdout",
     "output_type": "stream",
     "text": [
      "[ 1  2  3  4  5  6  7  8  9 10]\n",
      "[200   2 200   4 200   6 200   8 200  10]\n",
      "[200   2 200   4 200 300 200   8 300  10]\n"
     ]
    }
   ],
   "source": [
    "a = np.arange(1, 11)\n",
    "print(a)\n",
    "\n",
    "a[::2] = 200\n",
    "print(a)\n",
    "\n",
    "a[5:-1:3] = 300\n",
    "print(a)"
   ]
  },
  {
   "cell_type": "code",
   "execution_count": 10,
   "metadata": {},
   "outputs": [
    {
     "name": "stdout",
     "output_type": "stream",
     "text": [
      "[0, 1, 2]\n",
      "[3, 4, 5]\n",
      "[6, 7, 8]\n"
     ]
    }
   ],
   "source": [
    "a = [[0, 1, 2], [3, 4, 5], [6, 7, 8]]\n",
    "a = [[0, 1, 2], [3, 4, 5], [6, 7, 8]]\n",
    "\n",
    "print(a[0])\n",
    "print(a[1])\n",
    "print(a[2])\n"
   ]
  },
  {
   "cell_type": "code",
   "execution_count": 9,
   "metadata": {},
   "outputs": [
    {
     "name": "stdout",
     "output_type": "stream",
     "text": [
      "0 1 2\n",
      "3 4 2\n",
      "6 7 8\n"
     ]
    }
   ],
   "source": [
    "a = [[0, 1, 2], [3, 4, 5], [6, 7, 8]]\n",
    "print(a[0][0], a[0][1], a[0][2])\n",
    "print(a[1][0], a[1][1], a[0][2])\n",
    "print(a[2][0], a[2][1], a[2][2])"
   ]
  },
  {
   "cell_type": "code",
   "execution_count": 11,
   "metadata": {},
   "outputs": [
    {
     "name": "stdout",
     "output_type": "stream",
     "text": [
      "ndarray: \n",
      "[[0 1 2]\n",
      " [3 4 5]\n",
      " [6 7 8]]\n",
      "\n",
      "0 1 2\n",
      "3 4 5\n",
      "6 7 8\n"
     ]
    }
   ],
   "source": [
    "import numpy as np\n",
    "a = np.arange(9).reshape((3, 3))\n",
    "print(f\"ndarray: \\n{a}\\n\")\n",
    "print(a[0, 0], a[0, 1], a[0, 2])\n",
    "print(a[1, 0], a[1, 1], a[1, 2])\n",
    "print(a[2, 0], a[2, 1], a[2, 2])"
   ]
  },
  {
   "cell_type": "code",
   "execution_count": 12,
   "metadata": {},
   "outputs": [
    {
     "name": "stdout",
     "output_type": "stream",
     "text": [
      "ndarray: \n",
      "[[0 1 2]\n",
      " [3 4 5]\n",
      " [6 7 8]]\n",
      "\n",
      "0 1 2\n",
      "3 4 5\n",
      "6 7 8\n"
     ]
    }
   ],
   "source": [
    "import numpy as np\n",
    "a = np.arange(9).reshape((3, 3))\n",
    "print(f\"ndarray: \\n{a}\\n\")\n",
    "print(a[0][0], a[0][1], a[0][2])\n",
    "print(a[1][0], a[1][1], a[1][2])\n",
    "print(a[2][0], a[2][1], a[2][2])"
   ]
  },
  {
   "cell_type": "markdown",
   "metadata": {},
   "source": [
    "#### 행별 뽑아내기"
   ]
  },
  {
   "cell_type": "code",
   "execution_count": 13,
   "metadata": {},
   "outputs": [
    {
     "name": "stdout",
     "output_type": "stream",
     "text": [
      "ndarray: \n",
      "[[ 0  1  2  3]\n",
      " [ 4  5  6  7]\n",
      " [ 8  9 10 11]]\n",
      "\n",
      "a[0, 1:] :  [1 2 3]\n",
      "a[1, :3] :  [4 5 6]\n",
      "a[2, 1:3] :  [ 9 10]\n"
     ]
    }
   ],
   "source": [
    "import numpy as np\n",
    "a = np.arange(12).reshape((3, 4))\n",
    "print(f\"ndarray: \\n{a}\\n\")\n",
    "print(\"a[0, 1:] : \", a[0, 1:])\n",
    "print(\"a[1, :3] : \", a[1, :3])\n",
    "print(\"a[2, 1:3] : \", a[2, 1:3])"
   ]
  },
  {
   "cell_type": "markdown",
   "metadata": {},
   "source": [
    "#### 열별 뽑아내기"
   ]
  },
  {
   "cell_type": "code",
   "execution_count": 14,
   "metadata": {},
   "outputs": [
    {
     "name": "stdout",
     "output_type": "stream",
     "text": [
      "ndarray: \n",
      "[[ 0  1  2]\n",
      " [ 3  4  5]\n",
      " [ 6  7  8]\n",
      " [ 9 10 11]]\n",
      "\n",
      "a[1:, 0] :  [3 6 9]\n",
      "a[:3, 1] :  [1 4 7]\n",
      "a[1:3, 2] :  [5 8]\n"
     ]
    }
   ],
   "source": [
    "import numpy as np\n",
    "a = np.arange(12).reshape((4, 3))\n",
    "print(f\"ndarray: \\n{a}\\n\")\n",
    "print(\"a[1:, 0] : \", a[1:, 0])\n",
    "print(\"a[:3, 1] : \", a[:3, 1])\n",
    "print(\"a[1:3, 2] : \", a[1:3, 2])"
   ]
  },
  {
   "cell_type": "code",
   "execution_count": 15,
   "metadata": {},
   "outputs": [
    {
     "name": "stdout",
     "output_type": "stream",
     "text": [
      "ndarray: \n",
      "[[ 0  1  2  3]\n",
      " [ 4  5  6  7]\n",
      " [ 8  9 10 11]\n",
      " [12 13 14 15]]\n",
      "\n",
      "a[1:3, 1:3] : \n",
      " [[ 5  6]\n",
      " [ 9 10]]\n",
      "a[:2, :3] : \n",
      " [[0 1 2]\n",
      " [4 5 6]]\n",
      "a[1:, 2:] : \n",
      " [[ 6  7]\n",
      " [10 11]\n",
      " [14 15]]\n",
      "a[2:, :-2] : \n",
      " [[ 8  9]\n",
      " [12 13]]\n"
     ]
    }
   ],
   "source": [
    "import numpy as np\n",
    "a = np.arange(16).reshape((4, 4))\n",
    "print(f\"ndarray: \\n{a}\\n\")\n",
    "print(\"a[1:3, 1:3] : \\n\", a[1:3, 1:3])\n",
    "print(\"a[:2, :3] : \\n\", a[:2, :3])\n",
    "print(\"a[1:, 2:] : \\n\", a[1:, 2:])\n",
    "print(\"a[2:, :-2] : \\n\", a[2:, :-2])"
   ]
  },
  {
   "cell_type": "code",
   "execution_count": 17,
   "metadata": {},
   "outputs": [
    {
     "name": "stdout",
     "output_type": "stream",
     "text": [
      "ndarray: \n",
      "[[0 1 2]\n",
      " [3 4 5]\n",
      " [6 7 8]]\n",
      "\n",
      "horizontal_flip: \n",
      "[[2 1 0]\n",
      " [5 4 3]\n",
      " [8 7 6]]\n",
      "\n",
      "vertical_flip: \n",
      "[[6 7 8]\n",
      " [3 4 5]\n",
      " [0 1 2]]\n",
      "\n",
      "rotation: \n",
      "[[8 7 6]\n",
      " [5 4 3]\n",
      " [2 1 0]]\n",
      "\n"
     ]
    }
   ],
   "source": [
    "import numpy as np\n",
    "image = np.arange(9).reshape((3, 3))\n",
    "print(f\"ndarray: \\n{image}\\n\")\n",
    "\n",
    "horizontal_flip = image[:, ::-1]  # 행은 그대로 컬럼은 거꾸로\n",
    "print(f\"horizontal_flip: \\n{horizontal_flip}\\n\")\n",
    "\n",
    "vertical_flip = image[::-1, :] # 행을 거꿀로 컬럼은 그대로\n",
    "print(f\"vertical_flip: \\n{vertical_flip}\\n\")\n",
    "\n",
    "rotation = image[::-1, ::-1] # 행,열 거꾸로\n",
    "print(f\"rotation: \\n{rotation}\\n\")\n"
   ]
  },
  {
   "cell_type": "code",
   "execution_count": 18,
   "metadata": {},
   "outputs": [
    {
     "name": "stdout",
     "output_type": "stream",
     "text": [
      "ndarray: \n",
      "[[ 0  1  2  3]\n",
      " [ 4  5  6  7]\n",
      " [ 8  9 10 11]\n",
      " [12 13 14 15]]\n",
      "\n",
      "a[0, :] : \n",
      " [0 1 2 3]\n",
      "a[0, ...] : \n",
      " [0 1 2 3]\n",
      "a[:, 1] : \n",
      " [ 1  5  9 13]\n",
      "a[..., 1] : \n",
      " [ 1  5  9 13]\n"
     ]
    }
   ],
   "source": [
    "import numpy as np\n",
    "a = np.arange(16).reshape((4, 4))\n",
    "print(f\"ndarray: \\n{a}\\n\")\n",
    "\n",
    "print(\"a[0, :] : \\n\", a[0, :])\n",
    "\n",
    "print(\"a[0, ...] : \\n\", a[0, ...]) # 행은 0행 컬럼은 모든차원의 컬럼을 가져와라\n",
    "\n",
    "print(\"a[:, 1] : \\n\", a[:, 1])\n",
    "\n",
    "print(\"a[..., 1] : \\n\", a[..., 1]) # 열은 0열 행은 모든차원의 행을 가져와라\n"
   ]
  },
  {
   "cell_type": "code",
   "execution_count": 19,
   "metadata": {},
   "outputs": [
    {
     "name": "stdout",
     "output_type": "stream",
     "text": [
      "ndarray: \n",
      "[[[ 0  1  2]\n",
      "  [ 3  4  5]\n",
      "  [ 6  7  8]]\n",
      "\n",
      " [[ 9 10 11]\n",
      "  [12 13 14]\n",
      "  [15 16 17]]\n",
      "\n",
      " [[18 19 20]\n",
      "  [21 22 23]\n",
      "  [24 25 26]]]\n",
      "\n",
      "a[0, 0] : \n",
      " [0 1 2]\n",
      "a[0, 1] : \n",
      " [3 4 5]\n",
      "a[0, 2] : \n",
      " [6 7 8] \n",
      "\n",
      "a[1, 0] : \n",
      " [ 9 10 11]\n",
      "a[1, 1] : \n",
      " [12 13 14]\n",
      "a[1, 2] : \n",
      " [15 16 17] \n",
      "\n",
      "a[2, 0] : \n",
      " [18 19 20]\n",
      "a[2, 1] : \n",
      " [21 22 23]\n",
      "a[2, 2] : \n",
      " [24 25 26]\n"
     ]
    }
   ],
   "source": [
    "import numpy as np\n",
    "a = np.arange(3*3*3).reshape((3, 3, 3))\n",
    "print(f\"ndarray: \\n{a}\\n\")\n",
    "print(\"a[0, 0] : \\n\", a[0, 0])\n",
    "print(\"a[0, 1] : \\n\", a[0, 1])\n",
    "print(\"a[0, 2] : \\n\", a[0, 2], '\\n')\n",
    "print(\"a[1, 0] : \\n\", a[1, 0])\n",
    "print(\"a[1, 1] : \\n\", a[1, 1])\n",
    "print(\"a[1, 2] : \\n\", a[1, 2], '\\n')\n",
    "print(\"a[2, 0] : \\n\", a[2, 0])\n",
    "print(\"a[2, 1] : \\n\", a[2, 1])\n",
    "print(\"a[2, 2] : \\n\", a[2, 2])\n"
   ]
  },
  {
   "cell_type": "code",
   "execution_count": 22,
   "metadata": {},
   "outputs": [
    {
     "name": "stdout",
     "output_type": "stream",
     "text": [
      "ndarray: \n",
      "[[[ 0  1  2]\n",
      "  [ 3  4  5]\n",
      "  [ 6  7  8]]\n",
      "\n",
      " [[ 9 10 11]\n",
      "  [12 13 14]\n",
      "  [15 16 17]]\n",
      "\n",
      " [[18 19 20]\n",
      "  [21 22 23]\n",
      "  [24 25 26]]]\n",
      "\n",
      "a[0, :2, :2] : \n",
      " [[0 1]\n",
      " [3 4]]\n",
      "a[1, :2, :] : \n",
      " [[ 9 10 11]\n",
      " [12 13 14]]\n",
      "a[2, -2:, -2:] : \n",
      " [[22 23]\n",
      " [25 26]]\n"
     ]
    }
   ],
   "source": [
    "a = np.arange(3*3*3).reshape((3, 3, 3))\n",
    "print(f\"ndarray: \\n{a}\\n\")\n",
    "print(\"a[0, :2, :2] : \\n\", a[0, :2, :2])\n",
    "print(\"a[1, :2, :] : \\n\", a[1, :2, :])\n",
    "print(\"a[2, -2:, -2:] : \\n\", a[2, -2:, -2:])"
   ]
  },
  {
   "cell_type": "code",
   "execution_count": 23,
   "metadata": {},
   "outputs": [
    {
     "name": "stdout",
     "output_type": "stream",
     "text": [
      "image set:  (32, 100, 200)\n",
      "(32, 100)\n",
      "(32, 100) \n",
      "\n",
      "(100,)\n",
      "(100,)\n"
     ]
    }
   ],
   "source": [
    "import numpy as np\n",
    "images = np.random.normal(size=(32, 100, 200))\n",
    "print(\"image set: \", images.shape)\n",
    "\n",
    "col0 = images[:, :, 0]\n",
    "print(col0.shape)\n",
    "\n",
    "col0 = images[..., 0]\n",
    "print(col0.shape, '\\n')\n",
    "\n",
    "image0_col0 = images[0, :, 0]\n",
    "print(image0_col0.shape)\n",
    "\n",
    "image0_col0 = images[0, ..., 0]\n",
    "print(image0_col0.shape)"
   ]
  },
  {
   "cell_type": "code",
   "execution_count": 24,
   "metadata": {},
   "outputs": [
    {
     "name": "stdout",
     "output_type": "stream",
     "text": [
      "ndarray: \n",
      "[[[ 0  1  2]\n",
      "  [ 3  4  5]\n",
      "  [ 6  7  8]]\n",
      "\n",
      " [[ 9 10 11]\n",
      "  [12 13 14]\n",
      "  [15 16 17]]\n",
      "\n",
      " [[18 19 20]\n",
      "  [21 22 23]\n",
      "  [24 25 26]]]\n",
      "\n",
      "a[:, :2, :] : \n",
      " [[[ 0  1  2]\n",
      "  [ 3  4  5]]\n",
      "\n",
      " [[ 9 10 11]\n",
      "  [12 13 14]]\n",
      "\n",
      " [[18 19 20]\n",
      "  [21 22 23]]]\n"
     ]
    }
   ],
   "source": [
    "import numpy as np\n",
    "#3개의 채널의 0행 1행 모두 가져오기\n",
    "a = np.arange(3*3*3).reshape((3, 3, 3))\n",
    "print(f\"ndarray: \\n{a}\\n\")\n",
    "print(\"a[:, :2, :] : \\n\", a[:, :2, :])"
   ]
  },
  {
   "cell_type": "code",
   "execution_count": 25,
   "metadata": {},
   "outputs": [
    {
     "name": "stdout",
     "output_type": "stream",
     "text": [
      "ndarray: \n",
      "[[[ 0  1  2]\n",
      "  [ 3  4  5]\n",
      "  [ 6  7  8]]\n",
      "\n",
      " [[ 9 10 11]\n",
      "  [12 13 14]\n",
      "  [15 16 17]]\n",
      "\n",
      " [[18 19 20]\n",
      "  [21 22 23]\n",
      "  [24 25 26]]]\n",
      "\n",
      "a[:, :, 0] : \n",
      " [[ 0  3  6]\n",
      " [ 9 12 15]\n",
      " [18 21 24]]\n"
     ]
    }
   ],
   "source": [
    "import numpy as np\n",
    "# 3개 채널의 1열 다 가져오기\n",
    "a = np.arange(3*3*3).reshape((3, 3, 3))\n",
    "print(f\"ndarray: \\n{a}\\n\")\n",
    "print(\"a[:, :, 0] : \\n\", a[:, :, 0])"
   ]
  },
  {
   "cell_type": "code",
   "execution_count": 26,
   "metadata": {},
   "outputs": [
    {
     "name": "stdout",
     "output_type": "stream",
     "text": [
      "(500, 300) (500, 300) (500, 300)\n",
      "(500, 300) (500, 300) (500, 300)\n"
     ]
    }
   ],
   "source": [
    "import numpy as np\n",
    "image = np.random.normal(size=(3, 500, 300))\n",
    "image_r = image[0]\n",
    "image_g = image[1]\n",
    "image_b = image[2]\n",
    "print(image_r.shape, image_g.shape, image_b.shape)\n",
    "\n",
    "\n",
    "image = np.random.normal(size=(3, 500, 300))\n",
    "image_r, image_g, image_b = image\n",
    "print(image_r.shape, image_g.shape, image_b.shape)"
   ]
  },
  {
   "cell_type": "code",
   "execution_count": 27,
   "metadata": {},
   "outputs": [
    {
     "name": "stdout",
     "output_type": "stream",
     "text": [
      "(3, 100, 100) (3, 100, 100)\n",
      "(3, 100, 100) (3, 100, 100)\n"
     ]
    }
   ],
   "source": [
    "import numpy as np\n",
    "image = np.random.normal(size=(3, 500, 300))\n",
    "\n",
    "top_left = image[:, :100, :100]\n",
    "top_right = image[:, :100, -100:]\n",
    "bottom_left = image[:, -100:, :100]\n",
    "bottom_right = image[:, -100:, -100:]\n",
    "\n",
    "print(top_left.shape, top_right.shape)\n",
    "print(bottom_left.shape, bottom_right.shape)"
   ]
  },
  {
   "cell_type": "code",
   "execution_count": 33,
   "metadata": {},
   "outputs": [
    {
     "name": "stdout",
     "output_type": "stream",
     "text": [
      "[[[-0.07536938 -2.46508398]\n",
      "  [-0.58495699  0.39064909]\n",
      "  [ 1.18742156 -0.39599743]]\n",
      "\n",
      " [[-0.1366251  -0.82000804]\n",
      "  [-0.73160467  1.74301635]\n",
      "  [ 0.99970678  0.64040807]]\n",
      "\n",
      " [[-0.05577067 -0.01456578]\n",
      "  [ 0.46842506 -0.88444275]\n",
      "  [-0.45075463  1.04568253]]] \n",
      "\n",
      "[[[-2.46508398]\n",
      "  [ 0.39064909]]\n",
      "\n",
      " [[-0.82000804]\n",
      "  [ 1.74301635]]\n",
      "\n",
      " [[-0.01456578]\n",
      "  [-0.88444275]]]\n"
     ]
    }
   ],
   "source": [
    "image = np.random.normal(size=(3, 3, 2))\n",
    "print(image,\"\\n\")\n",
    "top_right = image[:, :2, -1:]\n",
    "print(top_right)"
   ]
  },
  {
   "cell_type": "code",
   "execution_count": 34,
   "metadata": {},
   "outputs": [
    {
     "name": "stdout",
     "output_type": "stream",
     "text": [
      "ndarray: \n",
      "[0 1 2 3 4 5 6 7 8 9]\n",
      "\n",
      "indices: \n",
      "[[1 2 3]\n",
      " [5 8 9]]\n",
      "a[indices]: \n",
      "[[1 2 3]\n",
      " [5 8 9]]\n"
     ]
    }
   ],
   "source": [
    "import numpy as np\n",
    "a = np.arange(10)\n",
    "print(f\"ndarray: \\n{a}\\n\")\n",
    "indices = np.array([[1, 2, 3], [5, 8, 9]])\n",
    "print(f\"indices: \\n{indices}\")\n",
    "print(f\"a[indices]: \\n{a[indices]}\")"
   ]
  },
  {
   "cell_type": "code",
   "execution_count": 35,
   "metadata": {},
   "outputs": [
    {
     "name": "stdout",
     "output_type": "stream",
     "text": [
      "ndarray: \n",
      "[11  9 15  7  1  6  1 11 15 18]\n",
      "\n",
      "indices: \n",
      "[[[7 0 6 9]\n",
      "  [6 2 9 7]\n",
      "  [6 7 5 3]]\n",
      "\n",
      " [[0 4 6 3]\n",
      "  [6 9 0 9]\n",
      "  [5 0 8 9]]]\n",
      "a[indices]: \n",
      "[[[11 11  1 18]\n",
      "  [ 1 15 18 11]\n",
      "  [ 1 11  6  7]]\n",
      "\n",
      " [[11  1  1  7]\n",
      "  [ 1 18 11 18]\n",
      "  [ 6 11 15 18]]]\n"
     ]
    }
   ],
   "source": [
    "import numpy as np\n",
    "a = np.random.randint(0, 20, (10, ))\n",
    "print(f\"ndarray: \\n{a}\\n\")\n",
    "\n",
    "indices = np.random.randint(0, 10, size=(2, 3, 4))\n",
    "print(f\"indices: \\n{indices}\")\n",
    "print(f\"a[indices]: \\n{a[indices]}\")"
   ]
  },
  {
   "cell_type": "code",
   "execution_count": 36,
   "metadata": {},
   "outputs": [
    {
     "name": "stdout",
     "output_type": "stream",
     "text": [
      "ndarray: \n",
      "[[ 0  1  2  3]\n",
      " [ 4  5  6  7]\n",
      " [ 8  9 10 11]]\n",
      "\n",
      "a[0]:  [0 1 2 3]\n",
      "a[1]:  [4 5 6 7]\n",
      "a[2]:  [ 8  9 10 11]\n"
     ]
    }
   ],
   "source": [
    "import numpy as np\n",
    "a = np.arange(12).reshape((3, 4))\n",
    "print(f\"ndarray: \\n{a}\\n\")\n",
    "print(\"a[0]: \", a[0])\n",
    "print(\"a[1]: \", a[1])\n",
    "print(\"a[2]: \", a[2])"
   ]
  },
  {
   "cell_type": "code",
   "execution_count": 37,
   "metadata": {},
   "outputs": [
    {
     "name": "stdout",
     "output_type": "stream",
     "text": [
      "ndarray: \n",
      "[[ 0  1  2  3]\n",
      " [ 4  5  6  7]\n",
      " [ 8  9 10 11]]\n",
      "\n",
      "indices: \n",
      "[0 2]\n",
      "a[indices]: \n",
      "[[ 0  1  2  3]\n",
      " [ 8  9 10 11]]\n"
     ]
    }
   ],
   "source": [
    "import numpy as np\n",
    "a = np.arange(12).reshape((3, 4))\n",
    "print(f\"ndarray: \\n{a}\\n\")\n",
    "\n",
    "indices = np.array([0, 2])\n",
    "print(f\"indices: \\n{indices}\")\n",
    "print(f\"a[indices]: \\n{a[indices]}\")"
   ]
  },
  {
   "cell_type": "code",
   "execution_count": 38,
   "metadata": {},
   "outputs": [
    {
     "name": "stdout",
     "output_type": "stream",
     "text": [
      "ndarray: \n",
      "[[ 0  1  2  3]\n",
      " [ 4  5  6  7]\n",
      " [ 8  9 10 11]]\n",
      "\n",
      "indices: \n",
      "[0 0 1 1 2 2]\n",
      "a[indices]: \n",
      "[[ 0  1  2  3]\n",
      " [ 0  1  2  3]\n",
      " [ 4  5  6  7]\n",
      " [ 4  5  6  7]\n",
      " [ 8  9 10 11]\n",
      " [ 8  9 10 11]]\n"
     ]
    }
   ],
   "source": [
    "import numpy as np\n",
    "a = np.arange(12).reshape((3, 4))\n",
    "print(f\"ndarray: \\n{a}\\n\")\n",
    "\n",
    "indices = np.array([0, 0, 1, 1, 2, 2])\n",
    "print(f\"indices: \\n{indices}\")\n",
    "print(f\"a[indices]: \\n{a[indices]}\")"
   ]
  },
  {
   "cell_type": "markdown",
   "metadata": {},
   "source": [
    "##### np.array([0, 0, 1, 1, 2, 2]) 가 6개의 벡터가 만들어짐. \n",
    "##### 6개의 벡터 안에 처음 매트릭스의 행부분의 4개의 원소가 들어가짐"
   ]
  },
  {
   "cell_type": "markdown",
   "metadata": {},
   "source": []
  },
  {
   "cell_type": "code",
   "execution_count": 40,
   "metadata": {},
   "outputs": [
    {
     "name": "stdout",
     "output_type": "stream",
     "text": [
      "ndarray: \n",
      "[[ 0  1  2  3]\n",
      " [ 4  5  6  7]\n",
      " [ 8  9 10 11]]\n",
      "\n",
      "indices: \n",
      "[[ 0  1  2]\n",
      " [-3 -2 -1]]\n",
      "a[indices]: \n",
      "[[[ 0  1  2  3]\n",
      "  [ 4  5  6  7]\n",
      "  [ 8  9 10 11]]\n",
      "\n",
      " [[ 0  1  2  3]\n",
      "  [ 4  5  6  7]\n",
      "  [ 8  9 10 11]]]\n"
     ]
    }
   ],
   "source": [
    "import numpy as np\n",
    "\n",
    "a = np.arange(12).reshape((3, 4))\n",
    "print(f\"ndarray: \\n{a}\\n\")\n",
    "\n",
    "indices = np.array([[0, 1, 2], [-3, -2, -1]])  # 2 *3 이 만들어지는데 각각의 데이터에 4개의 데이터가 붙음 =>(2,3,4)가 됨.\n",
    "\n",
    "print(f\"indices: \\n{indices}\")\n",
    "print(f\"a[indices]: \\n{a[indices]}\")"
   ]
  },
  {
   "cell_type": "code",
   "execution_count": 41,
   "metadata": {},
   "outputs": [
    {
     "name": "stdout",
     "output_type": "stream",
     "text": [
      "ndarray: \n",
      "[[ 0  1  2  3]\n",
      " [ 4  5  6  7]\n",
      " [ 8  9 10 11]]\n",
      "\n",
      "[6]\n",
      "[6]\n",
      "[8]\n",
      "[11]\n"
     ]
    }
   ],
   "source": [
    "import numpy as np\n",
    "a = np.arange(12).reshape((3, 4))\n",
    "print(f\"ndarray: \\n{a}\\n\")\n",
    "\n",
    "indices0, indices1 = np.array([0]), np.array([0])\n",
    "indices0, indices1 = np.array([1]), np.array([2])\n",
    "print(a[indices0, indices1]) \n",
    "print(a[indices0, indices1])\n",
    "\n",
    "indices0, indices1 = np.array([-1]), np.array([0])\n",
    "print(a[indices0, indices1])\n",
    "\n",
    "indices0, indices1 = np.array([-1]), np.array([-1])\n",
    "print(a[indices0, indices1])"
   ]
  },
  {
   "cell_type": "code",
   "execution_count": 43,
   "metadata": {},
   "outputs": [
    {
     "name": "stdout",
     "output_type": "stream",
     "text": [
      "ndarray: \n",
      "[[ 0  1  2  3]\n",
      " [ 4  5  6  7]\n",
      " [ 8  9 10 11]]\n",
      "\n",
      "Paired indices\n",
      "(0, 0) (1, 1) (2, 2) \n",
      "\n",
      "(0, 1) (1, 2) (2, 3) \n",
      "\n",
      "a[indices0, indices1]: \n",
      "[[ 0  5 10]\n",
      " [ 1  6 11]]\n"
     ]
    }
   ],
   "source": [
    "import numpy as np\n",
    "a = np.arange(12).reshape((3, 4))\n",
    "print(f\"ndarray: \\n{a}\\n\")\n",
    "\n",
    "indices0 = np.array([[0, 1, 2], [0, 1, 2]])\n",
    "indices1 = np.array([[0, 1, 2], [1, 2, 3]])\n",
    "\n",
    "print(\"Paired indices\")\n",
    "\n",
    "for row_indices0, row_indices1 in zip(indices0, indices1):\n",
    "    \n",
    "    for idx0, idx1 in zip(row_indices0, row_indices1):\n",
    "        print(f\"({idx0}, {idx1})\", end=' ')\n",
    "    print(\"\\n\")\n",
    "\n",
    "\n",
    "print(f\"a[indices0, indices1]: \\n{a[indices0, indices1]}\")\n"
   ]
  },
  {
   "cell_type": "markdown",
   "metadata": {},
   "source": [
    "### bool ndarray"
   ]
  },
  {
   "cell_type": "code",
   "execution_count": 46,
   "metadata": {},
   "outputs": [
    {
     "name": "stdout",
     "output_type": "stream",
     "text": [
      "ndarray: \n",
      "[0 1 2 3 4] \n",
      "\n",
      "b_indices: \n",
      "[ True False  True False  True]\n",
      "\n",
      "a[b_indices]: \n",
      "[0 2 4]\n"
     ]
    }
   ],
   "source": [
    "import numpy as np\n",
    "a = np.arange(5)\n",
    "print(f\"ndarray: \\n{a}\",\"\\n\")\n",
    "\n",
    "b_indices = np.array([True, False, True, False, True])\n",
    "print(f\"b_indices: \\n{b_indices}\\n\")\n",
    "print(f\"a[b_indices]: \\n{a[b_indices]}\")"
   ]
  },
  {
   "cell_type": "code",
   "execution_count": 47,
   "metadata": {},
   "outputs": [
    {
     "name": "stdout",
     "output_type": "stream",
     "text": [
      "ndarray: \n",
      "[ 9 16 19  7  4 11  3  7  9 15] \n",
      "\n",
      "b_indices: \n",
      "[False  True False False  True False False False False False]\n",
      "\n",
      "a[b_indices]: \n",
      "[16  4]\n"
     ]
    }
   ],
   "source": [
    "import numpy as np\n",
    "a = np.random.randint(0, 20, (10, ))\n",
    "print(f\"ndarray: \\n{a}\",\"\\n\")\n",
    "\n",
    "b_indices = (a % 2 == 0)\n",
    "print(f\"b_indices: \\n{b_indices}\\n\")\n",
    "print(f\"a[b_indices]: \\n{a[b_indices]}\")"
   ]
  },
  {
   "cell_type": "code",
   "execution_count": 49,
   "metadata": {},
   "outputs": [
    {
     "name": "stdout",
     "output_type": "stream",
     "text": [
      "ndarray: \n",
      "[[ 0  7]\n",
      " [18  7]] \n",
      "\n",
      "b_indices: \n",
      "[[ True False]\n",
      " [False  True]]\n",
      "\n",
      "a[b_indices]: \n",
      "[0 7]\n"
     ]
    }
   ],
   "source": [
    "import numpy as np\n",
    "a = np.random.randint(0, 20, (2, 2))\n",
    "print(f\"ndarray: \\n{a}\",\"\\n\")\n",
    "\n",
    "b_indices = np.array([[True, False],[False, True]])\n",
    "print(f\"b_indices: \\n{b_indices}\\n\")\n",
    "print(f\"a[b_indices]: \\n{a[b_indices]}\")"
   ]
  },
  {
   "cell_type": "code",
   "execution_count": 50,
   "metadata": {},
   "outputs": [
    {
     "name": "stdout",
     "output_type": "stream",
     "text": [
      "ndarray: \n",
      "[[15 11 14 12]\n",
      " [ 6  4  8 19]\n",
      " [ 2  6  4  3]] \n",
      "\n",
      "b_indices: \n",
      "[[ True  True  True  True]\n",
      " [False False False  True]\n",
      " [False False False False]]\n",
      "\n",
      "a[b_indices]: \n",
      "[15 11 14 12 19]\n"
     ]
    }
   ],
   "source": [
    "import numpy as np\n",
    "a = np.random.randint(0, 20, (3, 4))\n",
    "print(f\"ndarray: \\n{a}\",\"\\n\")\n",
    "\n",
    "b_indices = (a > 10)\n",
    "print(f\"b_indices: \\n{b_indices}\\n\")\n",
    "print(f\"a[b_indices]: \\n{a[b_indices]}\")"
   ]
  },
  {
   "cell_type": "code",
   "execution_count": 51,
   "metadata": {},
   "outputs": [
    {
     "name": "stdout",
     "output_type": "stream",
     "text": [
      "a: \n",
      "[ True False  True False]\n",
      "\n",
      "nonzero: \n",
      "(array([0, 2], dtype=int64),)\n",
      "where: \n",
      "(array([0, 2], dtype=int64),) \n",
      "\n",
      "a: \n",
      "[[ True False]\n",
      " [ True False]]\n",
      "\n",
      "nonzero: \n",
      "(array([0, 1], dtype=int64), array([0, 0], dtype=int64)) \n",
      "\n",
      "where: \n",
      "(array([0, 1], dtype=int64), array([0, 0], dtype=int64))\n"
     ]
    }
   ],
   "source": [
    "import numpy as np\n",
    "\n",
    "\n",
    "a = np.array([True, False, True, False])\n",
    "nonzero = np.nonzero(a)\n",
    "where = np.where(a)\n",
    "\n",
    "print(f\"a: \\n{a}\\n\")\n",
    "print(f\"nonzero: \\n{nonzero}\")\n",
    "print(f\"where: \\n{where}\",\"\\n\")\n",
    "\n",
    "\n",
    "\n",
    "\n",
    "a = np.array([[True, False],[True, False]])\n",
    "nonzero = np.nonzero(a)\n",
    "where = np.where(a)\n",
    "\n",
    "print(f\"a: \\n{a}\\n\")\n",
    "print(f\"nonzero: \\n{nonzero}\",\"\\n\")\n",
    "print(f\"where: \\n{where}\")"
   ]
  },
  {
   "cell_type": "code",
   "execution_count": 52,
   "metadata": {},
   "outputs": [
    {
     "name": "stdout",
     "output_type": "stream",
     "text": [
      "a: \n",
      "[[[ True False  True]\n",
      "  [ True False False]]\n",
      "\n",
      " [[False  True False]\n",
      "  [ True False  True]]]\n",
      "\n",
      "nonzero: \n",
      "(array([0, 1], dtype=int64), array([0, 0], dtype=int64))\n",
      "where: \n",
      "(array([0, 1], dtype=int64), array([0, 0], dtype=int64))\n"
     ]
    }
   ],
   "source": [
    "import numpy as np\n",
    "a = np.array([[[True, False, True],\n",
    "                [True, False, False]],\n",
    "                [[False, True, False],\n",
    "                [True, False, True]]])\n",
    "\n",
    "print(f\"a: \\n{a}\\n\")\n",
    "print(f\"nonzero: \\n{nonzero}\")\n",
    "print(f\"where: \\n{where}\")"
   ]
  },
  {
   "cell_type": "code",
   "execution_count": 56,
   "metadata": {},
   "outputs": [
    {
     "name": "stdout",
     "output_type": "stream",
     "text": [
      "a: \n",
      "[[-2 -1  2]\n",
      " [-1  0  2]\n",
      " [ 2 -1 -1]]\n",
      "\n",
      "using nonzero: \n",
      "[-2 -1  2 -1  2  2 -1 -1]\n",
      "using where: \n",
      "[-2 -1  2 -1  2  2 -1 -1]\n",
      "using bool ndarray: \n",
      "[-2 -1  2 -1  2  2 -1 -1]\n"
     ]
    }
   ],
   "source": [
    "import numpy as np\n",
    "a = np.random.randint(-2, 3, size=(3, 3))\n",
    "u_nonzero = a[np.nonzero(a)]\n",
    "u_where = a[np.where(a)]\n",
    "u_bool = a[a != 0]\n",
    "\n",
    "print(f\"a: \\n{a}\\n\")\n",
    "print(f\"using nonzero: \\n{u_nonzero}\")\n",
    "print(f\"using where: \\n{u_where}\")\n",
    "print(f\"using bool ndarray: \\n{u_bool}\")"
   ]
  },
  {
   "cell_type": "code",
   "execution_count": 57,
   "metadata": {},
   "outputs": [
    {
     "name": "stdout",
     "output_type": "stream",
     "text": [
      "a: \n",
      "[[ 0 -1 -2]\n",
      " [ 0 -2  0]\n",
      " [-2  2  2]]\n",
      "\n",
      "using nonzero: \n",
      "[2 2]\n",
      "using where: \n",
      "[2 2]\n",
      "using bool ndarray: \n",
      "[2 2]\n"
     ]
    }
   ],
   "source": [
    "import numpy as np\n",
    "a = np.random.randint(-2, 3, size=(3, 3))\n",
    "\n",
    "u_nonzero = a[np.nonzero(a > 0)]\n",
    "u_where = a[np.where(a > 0)]\n",
    "u_bool = a[a > 0]\n",
    "\n",
    "print(f\"a: \\n{a}\\n\")\n",
    "print(f\"using nonzero: \\n{u_nonzero}\")\n",
    "print(f\"using where: \\n{u_where}\")\n",
    "print(f\"using bool ndarray: \\n{u_bool}\")"
   ]
  },
  {
   "cell_type": "code",
   "execution_count": null,
   "metadata": {},
   "outputs": [],
   "source": []
  },
  {
   "cell_type": "code",
   "execution_count": null,
   "metadata": {},
   "outputs": [],
   "source": []
  },
  {
   "cell_type": "code",
   "execution_count": null,
   "metadata": {},
   "outputs": [],
   "source": []
  }
 ],
 "metadata": {
  "interpreter": {
   "hash": "b674431c1d39ef928ef270796425238bfb437e6432d715d69029c8bf72455e63"
  },
  "kernelspec": {
   "display_name": "Python 3.6.15 64-bit ('coin_deep': conda)",
   "language": "python",
   "name": "python3"
  },
  "language_info": {
   "codemirror_mode": {
    "name": "ipython",
    "version": 3
   },
   "file_extension": ".py",
   "mimetype": "text/x-python",
   "name": "python",
   "nbconvert_exporter": "python",
   "pygments_lexer": "ipython3",
   "version": "3.6.15"
  },
  "orig_nbformat": 4
 },
 "nbformat": 4,
 "nbformat_minor": 2
}
