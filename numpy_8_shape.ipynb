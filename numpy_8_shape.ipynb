{
 "cells": [
  {
   "cell_type": "markdown",
   "metadata": {},
   "source": [
    "## reshape"
   ]
  },
  {
   "cell_type": "code",
   "execution_count": 2,
   "metadata": {},
   "outputs": [
    {
     "name": "stdout",
     "output_type": "stream",
     "text": [
      "a: (9,)\n",
      " [0 1 2 3 4 5 6 7 8]\n",
      "\n",
      "b: (1, 9)\n",
      " [[0 1 2 3 4 5 6 7 8]]\n",
      "c: (9, 1)\n",
      " [[0]\n",
      " [1]\n",
      " [2]\n",
      " [3]\n",
      " [4]\n",
      " [5]\n",
      " [6]\n",
      " [7]\n",
      " [8]]\n"
     ]
    }
   ],
   "source": [
    "import numpy as np\n",
    "a = np.arange(9)\n",
    "b = a.reshape((1, 9))\n",
    "c = a.reshape((9, 1))\n",
    "print(f\"a: {a.shape}\\n {a}\\n\")\n",
    "print(f\"b: {b.shape}\\n {b}\")\n",
    "print(f\"c: {c.shape}\\n {c}\")"
   ]
  },
  {
   "cell_type": "code",
   "execution_count": 3,
   "metadata": {},
   "outputs": [
    {
     "name": "stdout",
     "output_type": "stream",
     "text": [
      "a: (9,)\n",
      " [0 1 2 3 4 5 6 7 8]\n",
      "\n",
      "b: (1, 9)\n",
      " [[0 1 2 3 4 5 6 7 8]]\n",
      "c: (9, 1)\n",
      " [[0]\n",
      " [1]\n",
      " [2]\n",
      " [3]\n",
      " [4]\n",
      " [5]\n",
      " [6]\n",
      " [7]\n",
      " [8]]\n"
     ]
    }
   ],
   "source": [
    "import numpy as np\n",
    "a = np.arange(9)\n",
    "b = a.reshape((1, -1))\n",
    "c = a.reshape((-1, 1))\n",
    "print(f\"a: {a.shape}\\n {a}\\n\")\n",
    "print(f\"b: {b.shape}\\n {b}\")\n",
    "print(f\"c: {c.shape}\\n {c}\")"
   ]
  },
  {
   "cell_type": "code",
   "execution_count": 4,
   "metadata": {},
   "outputs": [
    {
     "name": "stdout",
     "output_type": "stream",
     "text": [
      "a: (9,)\n",
      " [0 1 2 3 4 5 6 7 8]\n",
      "\n",
      "b: (1, 1, 9)\n",
      " [[[0 1 2 3 4 5 6 7 8]]]\n",
      "c: (1, 9, 1)\n",
      " [[[0]\n",
      "  [1]\n",
      "  [2]\n",
      "  [3]\n",
      "  [4]\n",
      "  [5]\n",
      "  [6]\n",
      "  [7]\n",
      "  [8]]]\n",
      "d: (9, 1, 1)\n",
      " [[[0]]\n",
      "\n",
      " [[1]]\n",
      "\n",
      " [[2]]\n",
      "\n",
      " [[3]]\n",
      "\n",
      " [[4]]\n",
      "\n",
      " [[5]]\n",
      "\n",
      " [[6]]\n",
      "\n",
      " [[7]]\n",
      "\n",
      " [[8]]]\n"
     ]
    }
   ],
   "source": [
    "import numpy as np\n",
    "a = np.arange(9)\n",
    "b = a.reshape((1, 1, 9))\n",
    "c = a.reshape((1, 9, 1))\n",
    "d = a.reshape((9, 1, 1))\n",
    "print(f\"a: {a.shape}\\n {a}\\n\")\n",
    "print(f\"b: {b.shape}\\n {b}\")\n",
    "print(f\"c: {c.shape}\\n {c}\")\n",
    "print(f\"d: {d.shape}\\n {d}\")\n"
   ]
  },
  {
   "cell_type": "code",
   "execution_count": 7,
   "metadata": {},
   "outputs": [
    {
     "name": "stdout",
     "output_type": "stream",
     "text": [
      "(1, 100, 200)\n",
      "(100, 200, 1)\n"
     ]
    }
   ],
   "source": [
    "import numpy as np\n",
    "a = np.random.normal(size=(100, 200))\n",
    "b = a.reshape((1, 100, 200))\n",
    "c = a.reshape((100, 200, 1))\n",
    "print(b.shape)\n",
    "print(c.shape)"
   ]
  },
  {
   "cell_type": "markdown",
   "metadata": {},
   "source": [
    "#### tuple unpacking"
   ]
  },
  {
   "cell_type": "code",
   "execution_count": 11,
   "metadata": {},
   "outputs": [
    {
     "name": "stdout",
     "output_type": "stream",
     "text": [
      "10 20\n",
      "(100, 150)\n",
      "100 150\n",
      "(1, 100, 150)\n",
      "(100, 150, 1)\n"
     ]
    }
   ],
   "source": [
    "a = (10, 20)\n",
    "print(*a) \n",
    "\n",
    "import numpy as np\n",
    "a = np.random.normal(size=(100, 150))\n",
    "\n",
    "print(a.shape)\n",
    "print(*a.shape)\n",
    "print((1, *a.shape))\n",
    "print((*a.shape, 1))"
   ]
  },
  {
   "cell_type": "code",
   "execution_count": 12,
   "metadata": {},
   "outputs": [
    {
     "name": "stdout",
     "output_type": "stream",
     "text": [
      "a.shape: (100, 200)\n",
      "\n",
      "b.shape: (1, 100, 200)\n",
      "c.shape: (100, 200, 1)\n"
     ]
    }
   ],
   "source": [
    "import numpy as np\n",
    "a = np.random.normal(size=(100, 200))\n",
    "b = a.reshape((1, *a.shape))\n",
    "c = a.reshape((*a.shape, 1))\n",
    "print(f\"a.shape: {a.shape}\\n\")\n",
    "print(f\"b.shape: {b.shape}\")\n",
    "print(f\"c.shape: {c.shape}\")\n"
   ]
  },
  {
   "cell_type": "markdown",
   "metadata": {},
   "source": [
    "## slincing 를 이용한 reshape"
   ]
  },
  {
   "cell_type": "code",
   "execution_count": 14,
   "metadata": {},
   "outputs": [
    {
     "name": "stdout",
     "output_type": "stream",
     "text": [
      "row_vec1.shape: (1, 9)\n",
      "row_vec2.shape: (1, 9)\n",
      "\n",
      "col_vec1.shape: (9, 1)\n",
      "col_vec2.shape: (9, 1)\n"
     ]
    }
   ],
   "source": [
    "import numpy as np\n",
    "a = np.arange(9)\n",
    "\n",
    "row_vec1 = a[np.newaxis, :]\n",
    "row_vec2 = a[None, :]        #앞에 새로운 차원\n",
    "col_vec1 = a[:, np.newaxis]\n",
    "col_vec2 = a[:, None]\n",
    "\n",
    "print(f\"row_vec1.shape: {row_vec1.shape}\")\n",
    "print(f\"row_vec2.shape: {row_vec2.shape}\\n\")\n",
    "print(f\"col_vec1.shape: {col_vec1.shape}\")\n",
    "print(f\"col_vec2.shape: {col_vec2.shape}\")\n"
   ]
  },
  {
   "cell_type": "code",
   "execution_count": 15,
   "metadata": {},
   "outputs": [
    {
     "name": "stdout",
     "output_type": "stream",
     "text": [
      "a.shape: (9,)\n",
      "\n",
      "b.shape: (1, 1, 9)\n",
      "c.shape: (1, 9, 1)\n",
      "d.shape: (9, 1, 1)\n"
     ]
    }
   ],
   "source": [
    "import numpy as np\n",
    "# 3차원일때\n",
    "a = np.arange(9)\n",
    "b = a[np.newaxis, np.newaxis, :]\n",
    "c = a[np.newaxis, :, np.newaxis]\n",
    "d = a[:, np.newaxis, np.newaxis]\n",
    "print(f\"a.shape: {a.shape}\\n\")\n",
    "print(f\"b.shape: {b.shape}\")\n",
    "print(f\"c.shape: {c.shape}\")\n",
    "print(f\"d.shape: {d.shape}\")"
   ]
  },
  {
   "cell_type": "code",
   "execution_count": 16,
   "metadata": {},
   "outputs": [
    {
     "name": "stdout",
     "output_type": "stream",
     "text": [
      "a.shape: (100, 200)\n",
      "\n",
      "b.shape: (1, 100, 200)\n",
      "c.shape: (100, 200, 1)\n"
     ]
    }
   ],
   "source": [
    "import numpy as np\n",
    "# 뒤에 귀찮으닌깐 ... 만붙여서\n",
    "a = np.random.normal(size=(100, 200))\n",
    "b = a[np.newaxis, ...]\n",
    "c = a[..., np.newaxis]\n",
    "\n",
    "print(f\"a.shape: {a.shape}\\n\")\n",
    "print(f\"b.shape: {b.shape}\")\n",
    "print(f\"c.shape: {c.shape}\")\n"
   ]
  },
  {
   "cell_type": "markdown",
   "metadata": {},
   "source": [
    "#### Using expand_dims API"
   ]
  },
  {
   "cell_type": "code",
   "execution_count": 17,
   "metadata": {},
   "outputs": [
    {
     "name": "stdout",
     "output_type": "stream",
     "text": [
      "a.shape: (9,)\n",
      "\n",
      "b.shape: (1, 9)\n",
      "c.shape: (9, 1)\n"
     ]
    }
   ],
   "source": [
    "import numpy as np\n",
    "a = np.arange(9)\n",
    "b = np.expand_dims(a, axis=0)\n",
    "c = np.expand_dims(a, axis=1)\n",
    "print(f\"a.shape: {a.shape}\\n\")\n",
    "print(f\"b.shape: {b.shape}\")\n",
    "print(f\"c.shape: {c.shape}\")\n"
   ]
  },
  {
   "cell_type": "code",
   "execution_count": 18,
   "metadata": {},
   "outputs": [
    {
     "name": "stdout",
     "output_type": "stream",
     "text": [
      "a.shape: (9,)\n",
      "\n",
      "b.shape: (1, 1, 9)\n",
      "c.shape: (1, 9, 1)\n",
      "d.shape: (9, 1, 1)\n"
     ]
    }
   ],
   "source": [
    "import numpy as np\n",
    "a = np.arange(9)\n",
    "b = np.expand_dims(a, axis=(0, 1))\n",
    "c = np.expand_dims(a, axis=(0, 2))\n",
    "d = np.expand_dims(a, axis=(1, 2))\n",
    "print(f\"a.shape: {a.shape}\\n\")\n",
    "print(f\"b.shape: {b.shape}\")\n",
    "print(f\"c.shape: {c.shape}\")\n",
    "print(f\"d.shape: {d.shape}\")\n"
   ]
  },
  {
   "cell_type": "code",
   "execution_count": 19,
   "metadata": {},
   "outputs": [
    {
     "name": "stdout",
     "output_type": "stream",
     "text": [
      "a.shape: (3, 3)\n",
      "\n",
      "b.shape: (1, 3, 3)\n",
      "c.shape: (3, 1, 3)\n",
      "d.shape: (3, 3, 1)\n",
      "e.shape: (1, 3, 3, 1)\n"
     ]
    }
   ],
   "source": [
    "import numpy as np\n",
    "a = np.arange(9).reshape((3, 3))\n",
    "b = np.expand_dims(a, axis=0)\n",
    "c = np.expand_dims(a, axis=1)\n",
    "d = np.expand_dims(a, axis=-1)\n",
    "e = np.expand_dims(a, axis=(0, -1))\n",
    "print(f\"a.shape: {a.shape}\\n\")\n",
    "print(f\"b.shape: {b.shape}\")\n",
    "print(f\"c.shape: {c.shape}\")\n",
    "print(f\"d.shape: {d.shape}\")\n",
    "print(f\"e.shape: {e.shape}\")\n"
   ]
  },
  {
   "cell_type": "code",
   "execution_count": 20,
   "metadata": {},
   "outputs": [
    {
     "name": "stdout",
     "output_type": "stream",
     "text": [
      "a.shape: (3, 3)\n",
      "\n",
      "b.shape: (1, 3, 3)\n",
      "c.shape: (3, 1, 3)\n",
      "d.shape: (3, 3, 1)\n",
      "e.shape: (1, 3, 3, 1)\n"
     ]
    }
   ],
   "source": [
    "import numpy as np\n",
    "a = np.arange(9).reshape((3, 3))\n",
    "b = np.expand_dims(a, axis=0)\n",
    "c = np.expand_dims(a, axis=1)\n",
    "d = np.expand_dims(a, axis=-1)\n",
    "e = np.expand_dims(a, axis=(0, -1))\n",
    "print(f\"a.shape: {a.shape}\\n\")\n",
    "print(f\"b.shape: {b.shape}\")\n",
    "print(f\"c.shape: {c.shape}\")\n",
    "print(f\"d.shape: {d.shape}\")\n",
    "print(f\"e.shape: {e.shape}\")\n"
   ]
  }
 ],
 "metadata": {
  "interpreter": {
   "hash": "b674431c1d39ef928ef270796425238bfb437e6432d715d69029c8bf72455e63"
  },
  "kernelspec": {
   "display_name": "Python 3.6.15 64-bit ('coin_deep': conda)",
   "language": "python",
   "name": "python3"
  },
  "language_info": {
   "codemirror_mode": {
    "name": "ipython",
    "version": 3
   },
   "file_extension": ".py",
   "mimetype": "text/x-python",
   "name": "python",
   "nbconvert_exporter": "python",
   "pygments_lexer": "ipython3",
   "version": "3.6.15"
  },
  "orig_nbformat": 4
 },
 "nbformat": 4,
 "nbformat_minor": 2
}
