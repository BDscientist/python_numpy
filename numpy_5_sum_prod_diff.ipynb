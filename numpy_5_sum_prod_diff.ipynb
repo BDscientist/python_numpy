{
 "cells": [
  {
   "cell_type": "markdown",
   "metadata": {},
   "source": [
    "### 넘파이의 합곱차 구하기"
   ]
  },
  {
   "cell_type": "code",
   "execution_count": 2,
   "metadata": {},
   "outputs": [
    {
     "name": "stdout",
     "output_type": "stream",
     "text": [
      "ndarray:  [0 1 2 3 4]\n",
      "cumsum:  [ 0  1  3  6 10]\n"
     ]
    }
   ],
   "source": [
    "import numpy as np\n",
    "a = np.arange(5)\n",
    "print(\"ndarray: \",a)\n",
    "\n",
    "cumsum = np.cumsum(a)\n",
    "print(\"cumsum: \",cumsum)"
   ]
  },
  {
   "cell_type": "code",
   "execution_count": 4,
   "metadata": {},
   "outputs": [
    {
     "name": "stdout",
     "output_type": "stream",
     "text": [
      "ndarray: (3, 3)\n",
      "[[0 1 2]\n",
      " [3 4 5]\n",
      " [6 7 8]]\n",
      "cumsum: (9,)\n",
      "[ 0  1  3  6 10 15 21 28 36]\n"
     ]
    }
   ],
   "source": [
    "import numpy as np\n",
    "a = np.arange(3*3).reshape((3, 3))\n",
    "cumsum = np.cumsum(a)\n",
    "print(\"ndarray: {}\\n{}\".format(a.shape, a))\n",
    "print(\"cumsum: {}\\n{}\".format(cumsum.shape, cumsum))\n",
    "\n"
   ]
  },
  {
   "cell_type": "code",
   "execution_count": 6,
   "metadata": {},
   "outputs": [
    {
     "name": "stdout",
     "output_type": "stream",
     "text": [
      "ndarray: (2, 3, 4)\n",
      "[[[ 0  1  2  3]\n",
      "  [ 4  5  6  7]\n",
      "  [ 8  9 10 11]]\n",
      "\n",
      " [[12 13 14 15]\n",
      "  [16 17 18 19]\n",
      "  [20 21 22 23]]]\n",
      "cumsum: (24,)\n",
      "[  0   1   3   6  10  15  21  28  36  45  55  66  78  91 105 120 136 153\n",
      " 171 190 210 231 253 276]\n"
     ]
    }
   ],
   "source": [
    "a = np.arange(2*3*4).reshape((2, 3, 4))\n",
    "cumsum = np.cumsum(a)\n",
    "\n",
    "\n",
    "print(\"ndarray: {}\\n{}\".format(a.shape, a))\n",
    "print(\"cumsum: {}\\n{}\".format(cumsum.shape, cumsum))"
   ]
  },
  {
   "cell_type": "markdown",
   "metadata": {},
   "source": [
    "#### 행별 더하기 ---> axis=0"
   ]
  },
  {
   "cell_type": "code",
   "execution_count": 11,
   "metadata": {},
   "outputs": [
    {
     "name": "stdout",
     "output_type": "stream",
     "text": [
      "ndarray: (3, 4)\n",
      "[[ 0  1  2  3]\n",
      " [ 4  5  6  7]\n",
      " [ 8  9 10 11]] \n",
      "\n",
      "cumsum: (3, 4)\n",
      "[[ 0  1  2  3]\n",
      " [ 4  6  8 10]\n",
      " [12 15 18 21]]\n"
     ]
    }
   ],
   "source": [
    "a = np.arange(3*4).reshape((3, 4))\n",
    "print(\"ndarray: {}\\n{}\".format(a.shape, a),\"\\n\")\n",
    "\n",
    "cumsum = np.cumsum(a, axis=0)\n",
    "print(\"cumsum: {}\\n{}\"\\\n",
    " .format(cumsum.shape,cumsum))\n",
    "\n"
   ]
  },
  {
   "cell_type": "markdown",
   "metadata": {},
   "source": [
    "#### 열별 더하기 ---> axis=1"
   ]
  },
  {
   "cell_type": "code",
   "execution_count": 12,
   "metadata": {},
   "outputs": [
    {
     "name": "stdout",
     "output_type": "stream",
     "text": [
      "cunsum: (3, 4)\n",
      "[[ 0  1  3  6]\n",
      " [ 4  9 15 22]\n",
      " [ 8 17 27 38]]\n"
     ]
    }
   ],
   "source": [
    "cumsum = np.cumsum(a,axis=1)\n",
    "print(\"cunsum: {}\\n{}\"\\\n",
    "    .format(cumsum.shape,cumsum))"
   ]
  },
  {
   "cell_type": "code",
   "execution_count": null,
   "metadata": {},
   "outputs": [],
   "source": []
  },
  {
   "cell_type": "code",
   "execution_count": null,
   "metadata": {},
   "outputs": [],
   "source": []
  },
  {
   "cell_type": "code",
   "execution_count": null,
   "metadata": {},
   "outputs": [],
   "source": []
  },
  {
   "cell_type": "code",
   "execution_count": null,
   "metadata": {},
   "outputs": [],
   "source": []
  }
 ],
 "metadata": {
  "interpreter": {
   "hash": "b674431c1d39ef928ef270796425238bfb437e6432d715d69029c8bf72455e63"
  },
  "kernelspec": {
   "display_name": "Python 3.6.15 64-bit ('coin_deep': conda)",
   "language": "python",
   "name": "python3"
  },
  "language_info": {
   "codemirror_mode": {
    "name": "ipython",
    "version": 3
   },
   "file_extension": ".py",
   "mimetype": "text/x-python",
   "name": "python",
   "nbconvert_exporter": "python",
   "pygments_lexer": "ipython3",
   "version": "3.6.15"
  },
  "orig_nbformat": 4
 },
 "nbformat": 4,
 "nbformat_minor": 2
}
