{
 "cells": [
  {
   "cell_type": "markdown",
   "metadata": {},
   "source": [
    "## ndarray의 원소별 연산과 브로드캐스팅"
   ]
  },
  {
   "cell_type": "code",
   "execution_count": 1,
   "metadata": {},
   "outputs": [
    {
     "name": "stdout",
     "output_type": "stream",
     "text": [
      "a:  [-3  0 -4 -5 -3]\n",
      "b:  [-1 -4 -3  0  0] \n",
      "\n",
      "a + b:  [-4 -4 -7 -5 -3]\n"
     ]
    }
   ],
   "source": [
    "import numpy as np\n",
    "a = np.random.randint(-5, 5, (5, ))\n",
    "b = np.random.randint(-5, 5, (5, ))\n",
    "\n",
    "print(\"a: \", a)\n",
    "print(\"b: \", b, '\\n')\n",
    "print(\"a + b: \", a + b)"
   ]
  },
  {
   "cell_type": "code",
   "execution_count": 2,
   "metadata": {},
   "outputs": [
    {
     "name": "stdout",
     "output_type": "stream",
     "text": [
      "a:  [1 4 3 3 2]\n",
      "b:  [3 2 4 4 4] \n",
      "\n",
      "a + b:  [4 6 7 7 6]\n",
      "a - b:  [-2  2 -1 -1 -2]\n",
      "a * b:  [ 3  8 12 12  8]\n",
      "a / b:  [0.33333333 2.         0.75       0.75       0.5       ]\n",
      "a // b:  [0 2 0 0 0]\n",
      "a % b:  [1 0 3 3 2]\n",
      "a ** b:  [ 1 16 81 81 16]\n"
     ]
    }
   ],
   "source": [
    "a = np.random.randint(1, 5, (5, ))\n",
    "b = np.random.randint(1, 5, (5, ))\n",
    "print(\"a: \", a)\n",
    "print(\"b: \", b, '\\n')\n",
    "print(\"a + b: \", a + b)\n",
    "print(\"a - b: \", a - b)\n",
    "print(\"a * b: \", a * b)\n",
    "print(\"a / b: \", a / b)\n",
    "print(\"a // b: \", a // b)\n",
    "print(\"a % b: \", a % b)\n",
    "print(\"a ** b: \", a ** b)"
   ]
  },
  {
   "cell_type": "markdown",
   "metadata": {},
   "source": [
    "#### masking"
   ]
  },
  {
   "cell_type": "code",
   "execution_count": 3,
   "metadata": {},
   "outputs": [
    {
     "name": "stdout",
     "output_type": "stream",
     "text": [
      "input:  [0 1 2 3 4]\n",
      "mask:  [0 1 0 1 0]\n",
      "output:  [ 0  2  8 12 16]\n"
     ]
    }
   ],
   "source": [
    "a = np.arange(5)\n",
    "\n",
    "mask = np.array([0, 1, 0, 1, 0])\n",
    "print(\"input: \", a)\n",
    "print(\"mask: \", mask)\n",
    "print(\"output: \", a*b)"
   ]
  },
  {
   "cell_type": "code",
   "execution_count": 4,
   "metadata": {},
   "outputs": [
    {
     "name": "stdout",
     "output_type": "stream",
     "text": [
      "input: \n",
      " [[1 2]\n",
      " [3 4]]\n",
      "mask: \n",
      " [[0 0]\n",
      " [1 0]]\n",
      "output: \n",
      " [[0 0]\n",
      " [3 0]]\n"
     ]
    }
   ],
   "source": [
    "a = np.arange(1, 5).reshape((2, 2))\n",
    "mask = np.array([[0, 0], [1, 0]])\n",
    "print(\"input: \\n\", a)\n",
    "print(\"mask: \\n\", mask)\n",
    "print(\"output: \\n\", a*mask)"
   ]
  },
  {
   "cell_type": "markdown",
   "metadata": {},
   "source": [
    "### When ndims Are Equal(Matrices)\n",
    "#### 2차원 "
   ]
  },
  {
   "cell_type": "code",
   "execution_count": 1,
   "metadata": {},
   "outputs": [
    {
     "name": "stdout",
     "output_type": "stream",
     "text": [
      "A: 2/(3, 3)\n",
      "[[0 1 2]\n",
      " [3 4 5]\n",
      " [6 7 8]]\n",
      "B: 2/(1, 3)\n",
      "[[ 0 10 20]]\n",
      "\n",
      "A + B: 2/(3, 3)\n",
      "[[ 0 11 22]\n",
      " [ 3 14 25]\n",
      " [ 6 17 28]]\n"
     ]
    }
   ],
   "source": [
    "import numpy as np\n",
    "A = np.arange(9).reshape(3, 3)\n",
    "B = 10*np.arange(3).reshape((-1, 3))\n",
    "C = A + B\n",
    "\n",
    "print(\"A: {}/{}\\n{}\".format(A.ndim, A.shape, A))\n",
    "print(\"B: {}/{}\\n{}\\n\".format(A.ndim, B.shape, B))\n",
    "print(\"A + B: {}/{}\\n{}\".format(A.ndim, C.shape, C))"
   ]
  },
  {
   "cell_type": "code",
   "execution_count": 2,
   "metadata": {},
   "outputs": [
    {
     "name": "stdout",
     "output_type": "stream",
     "text": [
      "A: 2/(3, 3)\n",
      "[[0 1 2]\n",
      " [3 4 5]\n",
      " [6 7 8]]\n",
      "B: 2/(3, 1)\n",
      "[[ 0]\n",
      " [10]\n",
      " [20]]\n",
      "\n",
      "A + B: 2/(3, 3)\n",
      "[[ 0  1  2]\n",
      " [13 14 15]\n",
      " [26 27 28]]\n"
     ]
    }
   ],
   "source": [
    "import numpy as np\n",
    "A = np.arange(9).reshape(3, 3)\n",
    "B = 10*np.arange(3).reshape((3, -1))\n",
    "C = A + B\n",
    "\n",
    "print(\"A: {}/{}\\n{}\".format(A.ndim, A.shape, A))\n",
    "print(\"B: {}/{}\\n{}\\n\".format(A.ndim, B.shape, B))\n",
    "print(\"A + B: {}/{}\\n{}\".format(A.ndim, C.shape, C))"
   ]
  },
  {
   "cell_type": "code",
   "execution_count": 3,
   "metadata": {},
   "outputs": [
    {
     "name": "stdout",
     "output_type": "stream",
     "text": [
      "A: 2/(3, 1)\n",
      "[[0]\n",
      " [1]\n",
      " [2]]\n",
      "B: 2/(1, 3)\n",
      "[[ 0 10 20]]\n",
      "\n",
      "A + B: 2/(3, 3)\n",
      "[[ 0 10 20]\n",
      " [ 1 11 21]\n",
      " [ 2 12 22]]\n"
     ]
    }
   ],
   "source": [
    "import numpy as np\n",
    "A = np.arange(3).reshape((3, -1))\n",
    "B = 10*np.arange(3).reshape((-1, 3))\n",
    "C = A + B\n",
    "\n",
    "print(\"A: {}/{}\\n{}\".format(A.ndim, A.shape, A))\n",
    "print(\"B: {}/{}\\n{}\\n\".format(A.ndim, B.shape, B))\n",
    "print(\"A + B: {}/{}\\n{}\".format(A.ndim, C.shape, C))"
   ]
  },
  {
   "cell_type": "markdown",
   "metadata": {},
   "source": [
    "#### 3차원"
   ]
  },
  {
   "cell_type": "code",
   "execution_count": 4,
   "metadata": {},
   "outputs": [
    {
     "name": "stdout",
     "output_type": "stream",
     "text": [
      "A: 3/(2, 3, 3)\n",
      "[[[ 0  1  2]\n",
      "  [ 3  4  5]\n",
      "  [ 6  7  8]]\n",
      "\n",
      " [[ 9 10 11]\n",
      "  [12 13 14]\n",
      "  [15 16 17]]]\n",
      "B: 3/(1, 3, 3)\n",
      "[[[ 0 10 20]\n",
      "  [30 40 50]\n",
      "  [60 70 80]]]\n",
      "\n",
      "A + B: 3/(2, 3, 3)\n",
      "[[[ 0 11 22]\n",
      "  [33 44 55]\n",
      "  [66 77 88]]\n",
      "\n",
      " [[ 9 20 31]\n",
      "  [42 53 64]\n",
      "  [75 86 97]]]\n"
     ]
    }
   ],
   "source": [
    "import numpy as np\n",
    "A = np.arange(18).reshape((2, 3, 3))\n",
    "B = 10*np.arange(9).reshape((1, 3, 3))\n",
    "C = A + B\n",
    "print(\"A: {}/{}\\n{}\".format(A.ndim, A.shape, A))\n",
    "print(\"B: {}/{}\\n{}\\n\".format(A.ndim, B.shape, B))\n",
    "print(\"A + B: {}/{}\\n{}\".format(A.ndim, C.shape, C))"
   ]
  },
  {
   "cell_type": "markdown",
   "metadata": {},
   "source": [
    "#### When ndims Are Not Equal"
   ]
  },
  {
   "cell_type": "code",
   "execution_count": 5,
   "metadata": {},
   "outputs": [
    {
     "name": "stdout",
     "output_type": "stream",
     "text": [
      "shapes: ()/(5,)\n",
      "a:  3\n",
      "u:  [0 1 2 3 4] \n",
      "\n",
      "a*u:  [ 0  3  6  9 12]\n"
     ]
    }
   ],
   "source": [
    "import numpy as np\n",
    "a = np.array(3)\n",
    "u = np.arange(5)\n",
    "print(\"shapes: {}/{}\".format(a.shape, u.shape))\n",
    "print(\"a: \", a)\n",
    "print(\"u: \", u, '\\n')\n",
    "print(\"a*u: \", a*u)"
   ]
  },
  {
   "cell_type": "code",
   "execution_count": 6,
   "metadata": {},
   "outputs": [
    {
     "name": "stdout",
     "output_type": "stream",
     "text": [
      "shapes: ()/(4,)\n",
      "a:  3\n",
      "u:  [1 2 3 4] \n",
      "\n",
      "a + u:  [4 5 6 7]\n",
      "a - u:  [ 2  1  0 -1]\n",
      "a * u:  [ 3  6  9 12]\n",
      "a / u:  [3.   1.5  1.   0.75]\n",
      "a // u:  [3 1 1 0]\n",
      "a % u:  [0 1 0 3]\n",
      "a ** u:  [ 3  9 27 81] \n",
      "\n",
      "a >= u:  [ True  True  True False]\n",
      "a < u:  [False False False  True]\n",
      "a <= u:  [False False  True  True]\n",
      "a == u:  [False False  True False]\n",
      "a != u:  [ True  True False  True]\n"
     ]
    }
   ],
   "source": [
    "import numpy as np\n",
    "a = np.array(3)\n",
    "u = np.arange(1, 5)\n",
    "shapes = \"shapes: {}/{}\"\n",
    "print(shapes.format(a.shape,u.shape))\n",
    "print(\"a: \", a)\n",
    "print(\"u: \", u, '\\n')\n",
    "print(\"a + u: \", a + u)\n",
    "print(\"a - u: \", a - u)\n",
    "print(\"a * u: \", a * u)\n",
    "print(\"a / u: \", a / u)\n",
    "print(\"a // u: \", a // u)\n",
    "print(\"a % u: \", a % u)\n",
    "print(\"a ** u: \", a ** u,'\\n')\n",
    "\n",
    "print(\"a >= u: \", a >= u)\n",
    "print(\"a < u: \", a < u)\n",
    "print(\"a <= u: \", a <= u)\n",
    "print(\"a == u: \", a == u)\n",
    "print(\"a != u: \", a != u)"
   ]
  },
  {
   "cell_type": "code",
   "execution_count": 7,
   "metadata": {},
   "outputs": [
    {
     "name": "stdout",
     "output_type": "stream",
     "text": [
      "A: 1/(2,)\n",
      "[10 20]\n",
      "B: 1/(3, 2)\n",
      "[[0 1]\n",
      " [2 3]\n",
      " [4 5]]\n",
      "\n",
      "A + B: 1/(3, 2)\n",
      "[[10 21]\n",
      " [12 23]\n",
      " [14 25]]\n"
     ]
    }
   ],
   "source": [
    "A = np.array([10, 20])\n",
    "B = np.arange(6).reshape((3, 2))\n",
    "C = A + B\n",
    "\n",
    "print(\"A: {}/{}\\n{}\".format(A.ndim, A.shape, A))\n",
    "print(\"B: {}/{}\\n{}\\n\".format(A.ndim, B.shape, B))\n",
    "print(\"A + B: {}/{}\\n{}\".format(A.ndim, C.shape, C))"
   ]
  },
  {
   "cell_type": "code",
   "execution_count": 8,
   "metadata": {},
   "outputs": [
    {
     "name": "stdout",
     "output_type": "stream",
     "text": [
      "A: 3/(2, 3, 4)\n",
      "[[[ 0  1  2  3]\n",
      "  [ 4  5  6  7]\n",
      "  [ 8  9 10 11]]\n",
      "\n",
      " [[12 13 14 15]\n",
      "  [16 17 18 19]\n",
      "  [20 21 22 23]]]\n",
      "B: 3/(4,)\n",
      "[ 0 10 20 30]\n",
      "\n",
      "A + B: 3/(2, 3, 4)\n",
      "[[[ 0 11 22 33]\n",
      "  [ 4 15 26 37]\n",
      "  [ 8 19 30 41]]\n",
      "\n",
      " [[12 23 34 45]\n",
      "  [16 27 38 49]\n",
      "  [20 31 42 53]]]\n"
     ]
    }
   ],
   "source": [
    "A = np.arange(2*3*4).reshape((2, 3, 4))\n",
    "B = 10*np.arange(4)\n",
    "C = A + B\n",
    "print(\"A: {}/{}\\n{}\".format(A.ndim, A.shape, A))\n",
    "print(\"B: {}/{}\\n{}\\n\".format(A.ndim, B.shape, B))\n",
    "print(\"A + B: {}/{}\\n{}\".format(A.ndim, C.shape, C))"
   ]
  },
  {
   "cell_type": "code",
   "execution_count": null,
   "metadata": {},
   "outputs": [],
   "source": []
  },
  {
   "cell_type": "code",
   "execution_count": null,
   "metadata": {},
   "outputs": [],
   "source": []
  },
  {
   "cell_type": "code",
   "execution_count": null,
   "metadata": {},
   "outputs": [],
   "source": []
  }
 ],
 "metadata": {
  "interpreter": {
   "hash": "b674431c1d39ef928ef270796425238bfb437e6432d715d69029c8bf72455e63"
  },
  "kernelspec": {
   "display_name": "Python 3.6.15 64-bit ('coin_deep': conda)",
   "language": "python",
   "name": "python3"
  },
  "language_info": {
   "codemirror_mode": {
    "name": "ipython",
    "version": 3
   },
   "file_extension": ".py",
   "mimetype": "text/x-python",
   "name": "python",
   "nbconvert_exporter": "python",
   "pygments_lexer": "ipython3",
   "version": "3.6.15"
  },
  "orig_nbformat": 4
 },
 "nbformat": 4,
 "nbformat_minor": 2
}
