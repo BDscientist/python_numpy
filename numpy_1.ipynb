{
 "cells": [
  {
   "cell_type": "code",
   "execution_count": 1,
   "metadata": {},
   "outputs": [],
   "source": [
    "import numpy as np"
   ]
  },
  {
   "cell_type": "markdown",
   "metadata": {},
   "source": [
    "## object = data + method   구성됨"
   ]
  },
  {
   "cell_type": "code",
   "execution_count": null,
   "metadata": {},
   "outputs": [],
   "source": [
    "# dir() Function\n",
    "a= [1,2,3]\n",
    "for i in dir(a):\n",
    "    print(i)"
   ]
  },
  {
   "cell_type": "code",
   "execution_count": null,
   "metadata": {},
   "outputs": [],
   "source": [
    "a = np.array([1,2,3])\n",
    "for i in dir(a):\n",
    "    print(i)"
   ]
  },
  {
   "cell_type": "markdown",
   "metadata": {},
   "source": [
    "##  ndarrays with specific values\n"
   ]
  },
  {
   "cell_type": "code",
   "execution_count": 6,
   "metadata": {},
   "outputs": [
    {
     "name": "stdout",
     "output_type": "stream",
     "text": [
      "(2, 3)\n",
      "[[0. 0. 0.]\n",
      " [0. 0. 0.]]\n"
     ]
    }
   ],
   "source": [
    "# ndarrays with PLUS AND MINUS\n",
    "M = np.zeros(shape=(2,3))\n",
    "print(M.shape)\n",
    "print(M)"
   ]
  },
  {
   "cell_type": "code",
   "execution_count": 7,
   "metadata": {},
   "outputs": [
    {
     "name": "stdout",
     "output_type": "stream",
     "text": [
      "(2, 3)\n",
      "[[1. 1. 1.]\n",
      " [1. 1. 1.]]\n"
     ]
    }
   ],
   "source": [
    "# ndarrays \n",
    "M = np.ones(shape=(2,3))\n",
    "print(M.shape)\n",
    "print(M)\n",
    " "
   ]
  },
  {
   "cell_type": "code",
   "execution_count": 8,
   "metadata": {},
   "outputs": [
    {
     "name": "stdout",
     "output_type": "stream",
     "text": [
      "(2, 3)\n",
      "[[3.14 3.14 3.14]\n",
      " [3.14 3.14 3.14]]\n"
     ]
    }
   ],
   "source": [
    "# ndarrays \n",
    "M = np.full(shape=(2,3),fill_value=3.14)\n",
    "print(M.shape)\n",
    "print(M)"
   ]
  },
  {
   "cell_type": "code",
   "execution_count": 13,
   "metadata": {},
   "outputs": [
    {
     "name": "stdout",
     "output_type": "stream",
     "text": [
      "(2, 3)\n",
      "[[3.14 3.14 3.14]\n",
      " [3.14 3.14 3.14]]\n"
     ]
    }
   ],
   "source": [
    "# ndarrays\n",
    "#   \n",
    "M = np.empty(shape=(2,3))\n",
    "print(M.shape)\n",
    "print(M)"
   ]
  },
  {
   "cell_type": "code",
   "execution_count": 17,
   "metadata": {},
   "outputs": [
    {
     "name": "stdout",
     "output_type": "stream",
     "text": [
      "[[3.14 3.14 3.14]\n",
      " [3.14 3.14 3.14]] \n",
      "\n",
      "zeros_like: \n",
      " [[0. 0. 0.]\n",
      " [0. 0. 0.]] \n",
      "\n",
      "ones_like: \n",
      " [[1. 1. 1.]\n",
      " [1. 1. 1.]] \n",
      "\n",
      "full_like: \n",
      " [[100. 100. 100.]\n",
      " [100. 100. 100.]] \n",
      "\n",
      "empty_like: \n",
      " [[100. 100. 100.]\n",
      " [100. 100. 100.]] \n",
      "\n"
     ]
    }
   ],
   "source": [
    "import numpy as np \n",
    "M = np.full(shape=(2,3),fill_value=3.14)\n",
    "print(M, '\\n')\n",
    "\n",
    "zeros_like = np.zeros_like(M)\n",
    "ones_like = np.ones_like(M)\n",
    "full_like = np.full_like(M,fill_value=100)\n",
    "empty_like = np.empty_like(M)\n",
    "\n",
    "print(\"zeros_like: \\n\",zeros_like,'\\n')\n",
    "print(\"ones_like: \\n\",ones_like,'\\n')\n",
    "print(\"full_like: \\n\",full_like,'\\n')\n",
    "print(\"empty_like: \\n\",empty_like,'\\n')"
   ]
  },
  {
   "cell_type": "code",
   "execution_count": 20,
   "metadata": {},
   "outputs": [
    {
     "name": "stdout",
     "output_type": "stream",
     "text": [
      "[0, 1, 2, 3, 4, 5, 6, 7, 8, 9]\n",
      "[2, 3, 4]\n",
      "[2, 4, 6, 8]\n",
      "\n",
      "\n",
      "[0 1 2 3 4 5 6 7 8 9]\n",
      "[2 3 4]\n",
      "[2 4 6 8]\n"
     ]
    }
   ],
   "source": [
    "#numpy arrange\n",
    "\n",
    "print(list(range(10)))\n",
    "print(list(range(2,5)))\n",
    "print(list(range(2,10,2)))\n",
    "print('\\n')\n",
    "\n",
    "import numpy as np\n",
    "print(np.arange(10))\n",
    "print(np.arange(2,5))\n",
    "print(np.arange(2,10,2))"
   ]
  },
  {
   "cell_type": "code",
   "execution_count": 21,
   "metadata": {},
   "outputs": [
    {
     "name": "stdout",
     "output_type": "stream",
     "text": [
      "[ 0.  1.  2.  3.  4.  5.  6.  7.  8.  9. 10.]\n",
      "[1.5 2.5 3.5 4.5 5.5 6.5 7.5 8.5 9.5]\n",
      "[1.5 4.  6.5 9. ]\n"
     ]
    }
   ],
   "source": [
    "# advanced np.arange\n",
    "print(np.arange(10.5))\n",
    "print(np.arange(1.5,10.5))\n",
    "print(np.arange(1.5,10.5,2.5))"
   ]
  },
  {
   "cell_type": "code",
   "execution_count": 26,
   "metadata": {},
   "outputs": [
    {
     "name": "stdout",
     "output_type": "stream",
     "text": [
      "[0.   0.25 0.5  0.75 1.  ]\n",
      "[0.         0.11111111 0.22222222 0.33333333 0.44444444 0.55555556\n",
      " 0.66666667 0.77777778 0.88888889 1.        ]\n",
      "\n",
      "\n",
      "[[  1.    10.   100.  ]\n",
      " [  1.25  12.5  125.  ]\n",
      " [  1.5   15.   150.  ]\n",
      " [  1.75  17.5  175.  ]\n",
      " [  2.    20.   200.  ]]\n"
     ]
    }
   ],
   "source": [
    "# numpy linespace\n",
    "print(np.linspace(0,1,5))\n",
    "print(np.linspace(0,1,10))\n",
    "print('\\n')\n",
    "\n",
    "a= np.linspace([1,10,100],[2,20,200],5) #1,2 의 구간에서 5개나눠서 1열로 , 10,20 의 구간에서 5개나눠서 2열로, 100,200 의 구간에서 5개나눠서 3열로\n",
    "print(a)"
   ]
  },
  {
   "cell_type": "markdown",
   "metadata": {},
   "source": [
    "## random distribution"
   ]
  },
  {
   "cell_type": "code",
   "execution_count": 28,
   "metadata": {},
   "outputs": [
    {
     "data": {
      "text/plain": [
       "(array([ 4.,  3., 10., 23., 43., 79., 80., 88., 67., 43., 32., 20.,  6.,\n",
       "         0.,  2.]),\n",
       " array([-3.07249101, -2.63839445, -2.2042979 , -1.77020135, -1.3361048 ,\n",
       "        -0.90200825, -0.46791169, -0.03381514,  0.40028141,  0.83437796,\n",
       "         1.26847452,  1.70257107,  2.13666762,  2.57076417,  3.00486072,\n",
       "         3.43895728]),\n",
       " <BarContainer object of 15 artists>)"
      ]
     },
     "execution_count": 28,
     "metadata": {},
     "output_type": "execute_result"
    },
    {
     "data": {
      "image/png": "[encoded data removed]",
      "text/plain": [
       "<Figure size 720x360 with 1 Axes>"
      ]
     },
     "metadata": {},
     "output_type": "display_data"
    }
   ],
   "source": [
    "import numpy as np\n",
    "import matplotlib.pyplot as plt\n",
    "plt.style.use('seaborn')\n",
    "\n",
    "fig,ax = plt.subplots(figsize=(10,5))\n",
    "\n",
    "random_value = np.random.randn(500)\n",
    "ax.hist(random_value,bins=15)\n",
    "#print(random_value.shape)"
   ]
  },
  {
   "cell_type": "code",
   "execution_count": null,
   "metadata": {},
   "outputs": [],
   "source": [
    "# from normal distrubution\n",
    "\n",
    "normal1 = np.random.normal(loc=-2,scale=1,size=(200,))\n",
    "normal2 = np.random.normal(loc=0,scale=2,size=(200,))\n",
    "normal3 = np.random.normal(loc=3,scale=5,size=(200,))\n",
    "\n",
    "# 위 mean, sd를 합친 200*3짜리 matrix생성 \n",
    "# noise 추가할때 유용함\n",
    "normal = np.random.normal(loc=[-2,0,3],scale=[1,2,5],size=(200,3)) \n",
    "ax.hist(normal,bins=15)\n",
    "\n"
   ]
  },
  {
   "cell_type": "code",
   "execution_count": 42,
   "metadata": {},
   "outputs": [
    {
     "name": "stdout",
     "output_type": "stream",
     "text": [
      "[[[0.35308839 0.9069434  0.54176337 0.97499349]\n",
      "  [0.33921467 0.87779824 0.83017794 0.28416643]\n",
      "  [0.16089518 0.7226422  0.80352604 0.82654289]]\n",
      "\n",
      " [[0.52899606 0.73761027 0.47297526 0.7920018 ]\n",
      "  [0.96865143 0.48824136 0.95944072 0.59458766]\n",
      "  [0.59833817 0.45811738 0.4152919  0.84424094]]]\n"
     ]
    },
    {
     "data": {
      "image/png": "[encoded data removed]",
      "text/plain": [
       "<Figure size 720x360 with 1 Axes>"
      ]
     },
     "metadata": {},
     "output_type": "display_data"
    }
   ],
   "source": [
    "# uniform distribution\n",
    "import numpy as np\n",
    "import matplotlib.pyplot as plt\n",
    "fig, ax = plt.subplots(figsize=(10,5))\n",
    "\n",
    "uniform1 = np.random.rand(1000)\n",
    "ax.hist(uniform1)\n",
    "uniform2 = np.random.rand(2,3,4)\n",
    "print(uniform2)"
   ]
  },
  {
   "cell_type": "code",
   "execution_count": null,
   "metadata": {},
   "outputs": [],
   "source": [
    "fig, ax = plt.subplots(figsize=(10,5))\n",
    "\n",
    "uniform3 = np.random.uniform(low=-10,high=10,size=(10000,))\n",
    "ax.hist(uniform3)\n"
   ]
  },
  {
   "cell_type": "code",
   "execution_count": 47,
   "metadata": {},
   "outputs": [
    {
     "name": "stdout",
     "output_type": "stream",
     "text": [
      "[0 6 5 6 2 2 3 2 5 0 6 0 4 5 5 0 6 4 5 0]\n"
     ]
    }
   ],
   "source": [
    "randint = np.random.randint(low=0, high=7, size=(20,)) #7포함 안함\n",
    "print(randint)"
   ]
  },
  {
   "cell_type": "code",
   "execution_count": null,
   "metadata": {},
   "outputs": [],
   "source": []
  },
  {
   "cell_type": "markdown",
   "metadata": {},
   "source": [
    "## meta data of ndarrays"
   ]
  },
  {
   "cell_type": "code",
   "execution_count": 2,
   "metadata": {},
   "outputs": [
    {
     "name": "stdout",
     "output_type": "stream",
     "text": [
      "0\n",
      "1\n",
      "2\n",
      "3\n"
     ]
    }
   ],
   "source": [
    "import numpy as np\n",
    "scalar_np = np.array(3.14)\n",
    "vector_np = np.array([1, 2, 3])\n",
    "matrix_np = np.array([[1, 2], [3, 4]])\n",
    "tensor_np = np.array([[[1, 2, 3],[4, 5, 6]],[[11, 12, 13],[14, 15, 16]]])\n",
    "\n",
    "print(scalar_np.ndim)\n",
    "print(vector_np.ndim)\n",
    "print(matrix_np.ndim)\n",
    "print(tensor_np.ndim)"
   ]
  },
  {
   "cell_type": "code",
   "execution_count": 3,
   "metadata": {},
   "outputs": [
    {
     "name": "stdout",
     "output_type": "stream",
     "text": [
      "Size of M: 10\n",
      "Size of N: 12\n",
      "Size of O: 60\n",
      "Size of P: 720\n"
     ]
    }
   ],
   "source": [
    "import numpy as np\n",
    "M = np.ones(shape=(10, ))\n",
    "N = np.ones(shape=(3, 4))\n",
    "O = np.ones(shape=(3, 4, 5))\n",
    "P = np.ones(shape=(2, 3, 4, 5, 6))\n",
    "\n",
    "\n",
    "print(\"Size of M:\", M.size)\n",
    "print(\"Size of N:\", N.size)\n",
    "print(\"Size of O:\", O.size)\n",
    "print(\"Size of P:\", P.size)\n"
   ]
  },
  {
   "cell_type": "code",
   "execution_count": 5,
   "metadata": {},
   "outputs": [
    {
     "name": "stdout",
     "output_type": "stream",
     "text": [
      "int32\n",
      "float64\n"
     ]
    }
   ],
   "source": [
    "import numpy as np\n",
    "int_np = np.array([1, 2, 3])\n",
    "float_np = np.array([1., 2., 3.])\n",
    "print(int_np.dtype)\n",
    "print(float_np.dtype)\n"
   ]
  },
  {
   "cell_type": "markdown",
   "metadata": {},
   "source": [
    "## Changing ndarrays shape"
   ]
  },
  {
   "cell_type": "code",
   "execution_count": 6,
   "metadata": {},
   "outputs": [
    {
     "name": "stdout",
     "output_type": "stream",
     "text": [
      "original ndarray: \n",
      " [0 1 2 3 4 5]\n",
      "reshaped ndarray: \n",
      " [[0 1 2]\n",
      " [3 4 5]]\n"
     ]
    }
   ],
   "source": [
    "import numpy as np\n",
    "a = np.arange(6)\n",
    "b = np.reshape(a, (2, 3))\n",
    "print(\"original ndarray: \\n\", a)\n",
    "print(\"reshaped ndarray: \\n\", b)"
   ]
  },
  {
   "cell_type": "code",
   "execution_count": 15,
   "metadata": {},
   "outputs": [
    {
     "name": "stdout",
     "output_type": "stream",
     "text": [
      "original ndarray: \n",
      " [ 0  1  2  3  4  5  6  7  8  9 10 11 12 13 14 15 16 17 18 19 20 21 22 23]\n",
      "reshaped ndarray: \n",
      " [[[ 0  1  2  3]\n",
      "  [ 4  5  6  7]\n",
      "  [ 8  9 10 11]]\n",
      "\n",
      " [[12 13 14 15]\n",
      "  [16 17 18 19]\n",
      "  [20 21 22 23]]]\n"
     ]
    }
   ],
   "source": [
    "import numpy as np\n",
    "a = np.arange(24)\n",
    "b = np.reshape(a, (2, 3, 4))\n",
    "print(\"original ndarray: \\n\", a)\n",
    "print(\"reshaped ndarray: \\n\", b)"
   ]
  },
  {
   "cell_type": "code",
   "execution_count": 16,
   "metadata": {},
   "outputs": [
    {
     "name": "stdout",
     "output_type": "stream",
     "text": [
      "original ndarray: \n",
      " [0 1 2 3 4 5]\n",
      "reshaped ndarray: \n",
      " [[0 1 2]\n",
      " [3 4 5]] \n",
      "\n",
      "original ndarray: \n",
      " [ 0  1  2  3  4  5  6  7  8  9 10 11 12 13 14 15 16 17 18 19 20 21 22 23]\n",
      "reshaped ndarray: \n",
      " [[[ 0  1  2  3]\n",
      "  [ 4  5  6  7]\n",
      "  [ 8  9 10 11]]\n",
      "\n",
      " [[12 13 14 15]\n",
      "  [16 17 18 19]\n",
      "  [20 21 22 23]]]\n"
     ]
    }
   ],
   "source": [
    "import numpy as np\n",
    "\n",
    "a = np.arange(6) \n",
    "b = a.reshape((2, 3))\n",
    "print(\"original ndarray: \\n\", a)\n",
    "print(\"reshaped ndarray: \\n\", b, '\\n')\n",
    "\n",
    "a = np.arange(24)\n",
    "b = a.reshape((2, 3, 4))\n",
    "print(\"original ndarray: \\n\", a)\n",
    "print(\"reshaped ndarray: \\n\", b)\n",
    "    "
   ]
  },
  {
   "cell_type": "code",
   "execution_count": 27,
   "metadata": {},
   "outputs": [
    {
     "name": "stdout",
     "output_type": "stream",
     "text": [
      "a <<  [52 20 76 22 61 54 72 41 78 46 44 89 54 93 71 44 33 19 80 67 46 19 84 90\n",
      " 35 64 19 68 63 19 17 16 40 23  4 39 87 29 94 72 26 11 33  0 96 99 18 30\n",
      " 36 28 69 61 50  7 88 78 87 53 51 23 45 43 63 47 31 99  1 75 87 60 46 68\n",
      " 78 89 60 51 78 12 72 43 36  6 88 97 14 30 88 68 74 28 23 18 75 40 59 36\n",
      " 65 42 84 13] \n",
      "\n",
      "61.35\n",
      "61.35\n"
     ]
    }
   ],
   "source": [
    "import numpy as np\n",
    "a = np.random.randint(0, 100, (100, ))\n",
    "print(\"a << \", a,'\\n')\n",
    "print(a.reshape((20, 5)).mean(axis=0).max()) #가독성은 이 코드가 더 좋음.\n",
    "print(np.max(np.mean(np.reshape(a, (20, 5)), axis=0))) # 가독성이 좋지 않음. 하지만 이런식의 코딩방식으로 진행해야될 경우도 많음.\n"
   ]
  },
  {
   "cell_type": "code",
   "execution_count": 31,
   "metadata": {},
   "outputs": [
    {
     "name": "stdout",
     "output_type": "stream",
     "text": [
      "(2, 6) (3, 4) (4, 3) (6, 2)\n",
      "(6, 2) (4, 3) (3, 4) (2, 6)\n"
     ]
    }
   ],
   "source": [
    "import numpy as np\n",
    "a = np.arange(12)\n",
    "\n",
    "#행을 강조하고 싶을때\n",
    "b = a.reshape((2, -1))\n",
    "c = a.reshape((3, -1))\n",
    "d = a.reshape((4, -1))\n",
    "e = a.reshape((6, -1))\n",
    "print(b.shape, c.shape, d.shape, e.shape)\n",
    "\n",
    "#열을 강조하고 싶을때\n",
    "b = a.reshape((-1, 2))\n",
    "c = a.reshape((-1, 3))\n",
    "d = a.reshape((-1, 4))\n",
    "e = a.reshape((-1, 6))\n",
    "print(b.shape, c.shape,d.shape, e.shape)"
   ]
  },
  {
   "cell_type": "code",
   "execution_count": null,
   "metadata": {},
   "outputs": [],
   "source": [
    "import numpy as np\n",
    "a = np.arange(24)\n",
    "b = a.reshape((2, 3, -1))\n",
    "c = a.reshape((2, -1, 4))\n",
    "d = a.reshape((-1, 3, 4))\n",
    "print(b.shape, c.shape, d.shape)"
   ]
  },
  {
   "cell_type": "code",
   "execution_count": 32,
   "metadata": {},
   "outputs": [
    {
     "name": "stdout",
     "output_type": "stream",
     "text": [
      "[[8 1]\n",
      " [4 2]]\n",
      "(1, 4) (4, 1)\n"
     ]
    }
   ],
   "source": [
    "a = np.random.randint(0, 10, size=(2, 2))\n",
    "print(a) \n",
    " \n",
    "row_vector = a.reshape(1, -1)\n",
    "col_vector = a.reshape(-1, 1)\n",
    "print(row_vector.shape, col_vector.shape) "
   ]
  },
  {
   "cell_type": "markdown",
   "metadata": {},
   "source": [
    "## resize"
   ]
  },
  {
   "cell_type": "code",
   "execution_count": 35,
   "metadata": {},
   "outputs": [
    {
     "name": "stdout",
     "output_type": "stream",
     "text": [
      "original ndarray: \n",
      " [0 1 2 3 4 5]\n",
      "original ndarray: \n",
      " [0 1 2 3 4 5]\n",
      "resized ndarray: \n",
      " [0 1 2 3 4 5 0 1 2]\n"
     ]
    }
   ],
   "source": [
    "import numpy as np\n",
    "a = np.arange(6)\n",
    "\n",
    "# reshape은 오류\n",
    "#b = np.reshape(a, (9, ))\n",
    "print(\"original ndarray: \\n\", a)\n",
    "#print(\"resized ndarray: \\n\", b)\n",
    "\n",
    "\n",
    "b = np.resize(a, (9, ))\n",
    "print(\"original ndarray: \\n\", a)\n",
    "print(\"resized ndarray: \\n\", b)\n"
   ]
  },
  {
   "cell_type": "code",
   "execution_count": 36,
   "metadata": {},
   "outputs": [
    {
     "name": "stdout",
     "output_type": "stream",
     "text": [
      "original ndarray: \n",
      " [0 1 2 3 4 5 6 7 8]\n",
      "resized ndarray: \n",
      " [[[0 1 2]\n",
      "  [3 4 5]\n",
      "  [6 7 8]]\n",
      "\n",
      " [[0 1 2]\n",
      "  [3 4 5]\n",
      "  [6 7 8]]]\n"
     ]
    }
   ],
   "source": [
    "a = np.arange(9) \n",
    "b = np.resize(a, (2, 3, 3))\n",
    "print(\"original ndarray: \\n\", a)\n",
    "print(\"resized ndarray: \\n\", b)\n"
   ]
  },
  {
   "cell_type": "code",
   "execution_count": 37,
   "metadata": {},
   "outputs": [
    {
     "name": "stdout",
     "output_type": "stream",
     "text": [
      "original ndarray: \n",
      " [0 1 2 3 4 5 6 7 8]\n",
      "resized ndarray: \n",
      " [[0 1]\n",
      " [2 3]]\n"
     ]
    }
   ],
   "source": [
    "a = np.arange(9)\n",
    "b = np.resize(a, (2, 2))\n",
    "print(\"original ndarray: \\n\", a)\n",
    "print(\"resized ndarray: \\n\", b)\n"
   ]
  },
  {
   "cell_type": "code",
   "execution_count": 38,
   "metadata": {},
   "outputs": [
    {
     "name": "stdout",
     "output_type": "stream",
     "text": [
      "original ndarray: \n",
      " [[0 1]\n",
      " [2 3]]\n",
      "resized ndarray: \n",
      " None\n"
     ]
    }
   ],
   "source": [
    "a = np.arange(9)\n",
    "b = a.resize((2, 2))\n",
    "print(\"original ndarray: \\n\", a)\n",
    "print(\"resized ndarray: \\n\", b)  #값의 casting이 되지 않음."
   ]
  },
  {
   "cell_type": "markdown",
   "metadata": {},
   "source": [
    "## flatten"
   ]
  },
  {
   "cell_type": "code",
   "execution_count": 39,
   "metadata": {},
   "outputs": [
    {
     "name": "stdout",
     "output_type": "stream",
     "text": [
      "[0 1 2 3 4 5 6 7 8] \n",
      "\n",
      "[[0 1 2]\n",
      " [3 4 5]\n",
      " [6 7 8]] \n",
      "\n",
      "[0 1 2 3 4 5 6 7 8] \n",
      "\n"
     ]
    }
   ],
   "source": [
    "import numpy as np\n",
    "M = np.arange(9)\n",
    "N = M.reshape((3, 3))\n",
    "O = N.flatten()\n",
    "print(M, '\\n')\n",
    "print(N, '\\n')\n",
    "print(O, '\\n')"
   ]
  },
  {
   "cell_type": "code",
   "execution_count": 41,
   "metadata": {},
   "outputs": [
    {
     "name": "stdout",
     "output_type": "stream",
     "text": [
      "[ 0  1  2  3  4  5  6  7  8  9 10 11 12 13 14 15 16 17 18 19 20 21 22 23\n",
      " 24 25 26] \n",
      "\n",
      "[[[ 0  1  2]\n",
      "  [ 3  4  5]\n",
      "  [ 6  7  8]]\n",
      "\n",
      " [[ 9 10 11]\n",
      "  [12 13 14]\n",
      "  [15 16 17]]\n",
      "\n",
      " [[18 19 20]\n",
      "  [21 22 23]\n",
      "  [24 25 26]]] \n",
      "\n",
      "[ 0  1  2  3  4  5  6  7  8  9 10 11 12 13 14 15 16 17 18 19 20 21 22 23\n",
      " 24 25 26] \n",
      "\n"
     ]
    }
   ],
   "source": [
    "import numpy as np\n",
    "M = np.arange(27)\n",
    "N = M.reshape((3, 3, 3))\n",
    "O = N.flatten()\n",
    "print(M, '\\n')\n",
    "print(N, '\\n')\n",
    "print(O, '\\n')"
   ]
  },
  {
   "cell_type": "markdown",
   "metadata": {},
   "source": [
    "## memory optimaization"
   ]
  },
  {
   "cell_type": "code",
   "execution_count": 42,
   "metadata": {},
   "outputs": [
    {
     "name": "stdout",
     "output_type": "stream",
     "text": [
      "[100   1   2   3   4]\n",
      "[100   1   2   3   4]\n",
      "[10 10 10  3  4]\n",
      "[10 10 10]\n",
      "[0 1 2 3 4]\n",
      "[100   1   2   3   4]\n"
     ]
    }
   ],
   "source": [
    "# view는 원본 데이터에 영향을 미치고, copy는 원본 데이터의 영향을 미치지않음\n",
    "# 따라서 view를 통해 메모리 효율을 높일 수 있음.\n",
    "import numpy as np\n",
    "a = np.arange(5)\n",
    "\n",
    "b = a.view()\n",
    "b[0] = 100\n",
    "print(a)\n",
    "print(b)\n",
    "\n",
    "a = np.arange(5)\n",
    "b = a[0:3]\n",
    "b[...] = 10\n",
    "print(a)\n",
    "print(b)\n",
    "\n",
    "a = np.arange(5)\n",
    "b = a.copy()\n",
    "b[0] = 100\n",
    "print(a)\n",
    "print(b)"
   ]
  },
  {
   "cell_type": "code",
   "execution_count": 43,
   "metadata": {},
   "outputs": [
    {
     "name": "stdout",
     "output_type": "stream",
     "text": [
      "False\n",
      "True\n",
      "True\n"
     ]
    }
   ],
   "source": [
    "import numpy as np\n",
    "a = np.arange(5)\n",
    "b = a.copy()\n",
    "c = a.view()\n",
    "d = a[0:3]\n",
    "\n",
    "print(b.base is a)\n",
    "print(c.base is a)\n",
    "print(d.base is a)\n"
   ]
  },
  {
   "cell_type": "code",
   "execution_count": 47,
   "metadata": {},
   "outputs": [
    {
     "name": "stdout",
     "output_type": "stream",
     "text": [
      "True \n",
      "\n",
      "[100   1   2   3]\n",
      "[[100   1]\n",
      " [  2   3]]\n",
      "False \n",
      "\n",
      "[0 1 2 3 4]\n",
      "[[100   1]\n",
      " [  2   3]]\n"
     ]
    }
   ],
   "source": [
    "# reshape은 view , rsize는 copy 따라서 reshape이 메모리 효율이 있음.\n",
    "import numpy as np\n",
    "a = np.arange(4)\n",
    "b = np.reshape(a, (2, 2))\n",
    "b[0, 0] = 100\n",
    "print(b.base is a, '\\n')\n",
    "print(a)\n",
    "print(b)\n",
    "\n",
    "a = np.arange(5)\n",
    "b = np.resize(a, (2, 2))\n",
    "b[0, 0] = 100\n",
    "print(b.base is a, '\\n')\n",
    "print(a)\n",
    "print(b)"
   ]
  },
  {
   "cell_type": "code",
   "execution_count": 50,
   "metadata": {},
   "outputs": [
    {
     "name": "stdout",
     "output_type": "stream",
     "text": [
      "True \n",
      "\n",
      "[[-10   6   5]\n",
      " [  2   0   5]]\n",
      "[-10   6   5   2   0   5] \n",
      "\n",
      "False \n",
      "\n",
      "[[8 6 4]\n",
      " [2 7 6]]\n",
      "[-10   6   4   2   7   6]\n"
     ]
    }
   ],
   "source": [
    "# ravel은 view , flatten은 copy 따라서 ravel을 통해 메모리 효율이 있음.\n",
    "import numpy as np\n",
    "from numpy.random import randint\n",
    "a = randint(0, 10, (2, 3))\n",
    "b = a.ravel()\n",
    "b[0] = -10\n",
    "print(b.base is a, '\\n')\n",
    "print(a)\n",
    "print(b,\"\\n\")\n",
    "\n",
    "a = randint(0, 10, (2, 3))\n",
    "b = a.flatten()\n",
    "b[0] = -10\n",
    "print(b.base is a, '\\n')\n",
    "print(a)\n",
    "print(b)"
   ]
  },
  {
   "cell_type": "markdown",
   "metadata": {},
   "source": [
    "## bool type"
   ]
  },
  {
   "cell_type": "code",
   "execution_count": 51,
   "metadata": {},
   "outputs": [
    {
     "name": "stdout",
     "output_type": "stream",
     "text": [
      "bool: \n",
      "[ True False]\n",
      "int: \n",
      "[1 0]\n",
      "float: \n",
      "[1. 0.]\n"
     ]
    }
   ],
   "source": [
    "\n",
    "import numpy as np\n",
    "bools = np.array([True, False])\n",
    "print(f\"bool: \\n{bools}\")\n",
    "\n",
    "bools2floats = bools.astype(np.float)\n",
    "bools2ints = bools.astype(np.int)\n",
    "print(f\"int: \\n{bools2ints}\")\n",
    "print(f\"float: \\n{bools2floats}\")"
   ]
  },
  {
   "cell_type": "code",
   "execution_count": 53,
   "metadata": {},
   "outputs": [
    {
     "name": "stdout",
     "output_type": "stream",
     "text": [
      "ints: \n",
      "[-2 -1  0  1  2]\n",
      "floats: \n",
      "[-2.5 -1.5  0.   1.5  2.5]\n",
      "\n",
      "ints -> bools: \n",
      "[ True  True False  True  True]\n",
      "floats -> bools: \n",
      "[ True  True False  True  True]\n"
     ]
    }
   ],
   "source": [
    "import numpy as np\n",
    "ints = np.array([-2, -1, 0, 1, 2])\n",
    "floats = np.array([-2.5, -1.5, 0., 1.5, 2.5])\n",
    "print(f\"ints: \\n{ints}\")\n",
    "print(f\"floats: \\n{floats}\\n\")\n",
    "\n",
    "ints2bools = ints.astype(np.bool)      \n",
    "print(f\"ints -> bools: \\n{ints2bools}\")\n",
    "\n",
    "floats2bools = ints.astype(np.bool)\n",
    "print(f\"floats -> bools: \\n{floats2bools}\")"
   ]
  },
  {
   "cell_type": "code",
   "execution_count": 55,
   "metadata": {},
   "outputs": [
    {
     "name": "stdout",
     "output_type": "stream",
     "text": [
      "False False\n",
      "False False\n",
      "False True\n",
      "True False\n"
     ]
    }
   ],
   "source": [
    "# 숫자랑 bool type이랑 비교는 1,0 만됨\n",
    "print(-3 == True, -3 == False)\n",
    "print(3.14 == True, 3.14 == False)\n",
    "\n",
    "print(0. == True, 0. == False)\n",
    "print(1. == True, 1. == False)"
   ]
  },
  {
   "cell_type": "code",
   "execution_count": null,
   "metadata": {},
   "outputs": [],
   "source": []
  },
  {
   "cell_type": "code",
   "execution_count": null,
   "metadata": {},
   "outputs": [],
   "source": []
  }
 ],
 "metadata": {
  "interpreter": {
   "hash": "b674431c1d39ef928ef270796425238bfb437e6432d715d69029c8bf72455e63"
  },
  "kernelspec": {
   "display_name": "Python 3.6.15 64-bit ('coin_deep': conda)",
   "language": "python",
   "name": "python3"
  },
  "language_info": {
   "codemirror_mode": {
    "name": "ipython",
    "version": 3
   },
   "file_extension": ".py",
   "mimetype": "text/x-python",
   "name": "python",
   "nbconvert_exporter": "python",
   "pygments_lexer": "ipython3",
   "version": "3.6.15"
  },
  "orig_nbformat": 4
 },
 "nbformat": 4,
 "nbformat_minor": 2
}
