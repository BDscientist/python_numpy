{
 "cells": [
  {
   "cell_type": "markdown",
   "metadata": {},
   "source": [
    "## Rounding and Sorting"
   ]
  },
  {
   "cell_type": "code",
   "execution_count": 2,
   "metadata": {},
   "outputs": [
    {
     "name": "stdout",
     "output_type": "stream",
     "text": [
      "x: \n",
      " [-0.74930673  3.92609783  0.0099435  -1.32260965 -1.7947929 ]\n",
      "\n",
      "trunc_where: \n",
      " [-0.  3.  0. -1. -1.]\n",
      "trunc: \n",
      "[-0.  3.  0. -1. -1.]\n"
     ]
    }
   ],
   "source": [
    "import numpy as np\n",
    "x = np.random.uniform(-5, 5, (5, ))\n",
    "trunc_where = np.where(x >= 0, np.floor(x), np.ceil(x))\n",
    "trunc = np.trunc(x)\n",
    "print(f\"x: \\n {x}\\n\")\n",
    "print(f\"trunc_where: \\n {trunc_where}\")\n",
    "print(f\"trunc: \\n{trunc}\")"
   ]
  },
  {
   "cell_type": "code",
   "execution_count": 3,
   "metadata": {},
   "outputs": [
    {
     "name": "stdout",
     "output_type": "stream",
     "text": [
      "x: \n",
      " [-0.31873443 -1.01642306 -4.42445439 -2.29141813  1.50781278]\n",
      "\n",
      "trunc: \n",
      " [-0.  3.  0. -1. -1.]\n"
     ]
    }
   ],
   "source": [
    "import numpy as np\n",
    "x = np.random.uniform(-5, 5, (5, ))\n",
    "\n",
    "print(f\"x: \\n {x}\\n\")\n",
    "print(f\"trunc: \\n {trunc}\")\n"
   ]
  },
  {
   "cell_type": "markdown",
   "metadata": {},
   "source": [
    "#### Sorting"
   ]
  },
  {
   "cell_type": "code",
   "execution_count": 5,
   "metadata": {},
   "outputs": [
    {
     "name": "stdout",
     "output_type": "stream",
     "text": [
      "pred: \n",
      "[0.037 0.227 0.25  0.246 0.239]\n",
      "\n",
      "top-3 pred: [0.25  0.246 0.239]\n",
      "top-3 indices: [2 3 4]\n"
     ]
    }
   ],
   "source": [
    "import numpy as np\n",
    "pred = np.random.uniform(0, 100, (5, ))\n",
    "pred /= pred.sum()\n",
    "top3_pred = np.sort(pred)[::-1][:3]\n",
    "top3_indices = np.argsort(pred)[::-1][:3]\n",
    "\n",
    "print(f\"pred: \\n{pred.round(3)}\\n\")\n",
    "print(f\"top-3 pred: {top3_pred.round(3)}\")\n",
    "print(f\"top-3 indices: {top3_indices}\")"
   ]
  },
  {
   "cell_type": "code",
   "execution_count": 6,
   "metadata": {},
   "outputs": [
    {
     "name": "stdout",
     "output_type": "stream",
     "text": [
      "x: \n",
      "[[60 54 14 66 26]\n",
      " [ 7 41 63 28 58]\n",
      " [13 40 59 71 33]\n",
      " [47 23  8 86 93]]\n",
      "\n",
      "argsort: \n",
      "[[1 3 3 1 0]\n",
      " [2 2 0 0 2]\n",
      " [3 1 2 2 1]\n",
      " [0 0 1 3 3]]\n"
     ]
    }
   ],
   "source": [
    "import numpy as np\n",
    "x = np.random.randint(0, 100, (4, 5))\n",
    "sort = np.sort(x, axis=0)\n",
    "argsort = np.argsort(x, axis=0)\n",
    "print(f\"x: \\n{x}\\n\")\n",
    "print(f\"argsort: \\n{argsort}\")"
   ]
  },
  {
   "cell_type": "code",
   "execution_count": 7,
   "metadata": {},
   "outputs": [
    {
     "name": "stdout",
     "output_type": "stream",
     "text": [
      "x: \n",
      "[[18 44 35 31 33]\n",
      " [68 42 12 32 60]\n",
      " [89 97 53 11 44]\n",
      " [26 93 52  2 97]]\n",
      "\n",
      "sort: \n",
      "[[89 97 53 32 97]\n",
      " [68 93 52 31 60]\n",
      " [26 44 35 11 44]\n",
      " [18 42 12  2 33]]\n",
      "argsort: \n",
      "[[2 2 2 1 3]\n",
      " [1 3 3 0 1]\n",
      " [3 0 0 2 2]\n",
      " [0 1 1 3 0]]\n"
     ]
    }
   ],
   "source": [
    "import numpy as np\n",
    "x = np.random.randint(0, 100, (4, 5))\n",
    "\n",
    "sort = np.sort(x, axis=0)[::-1, :]\n",
    "argsort = np.argsort(x, axis=0)[::-1, :]\n",
    "print(f\"x: \\n{x}\\n\")\n",
    "print(f\"sort: \\n{sort}\")\n",
    "print(f\"argsort: \\n{argsort}\")"
   ]
  },
  {
   "cell_type": "code",
   "execution_count": 8,
   "metadata": {},
   "outputs": [
    {
     "name": "stdout",
     "output_type": "stream",
     "text": [
      "scores: \n",
      "[[ 1 59 80]\n",
      " [42 92 63]\n",
      " [40 83 59]\n",
      " [84 19 33]\n",
      " [50 27 23]]\n",
      "\n",
      "sort: \n",
      "[[84 92 80]\n",
      " [50 83 63]\n",
      " [42 59 59]\n",
      " [40 27 33]\n",
      " [ 1 19 23]]\n",
      "argsort: \n",
      "[[3 1 0]\n",
      " [4 2 1]\n",
      " [1 0 2]\n",
      " [2 4 3]\n",
      " [0 3 4]]\n",
      "\n",
      "top-2 scores: \n",
      "[[84 92 80]\n",
      " [50 83 63]]\n",
      "top-2 students: \n",
      "[[3 1 0]\n",
      " [4 2 1]]\n"
     ]
    }
   ],
   "source": [
    "import numpy as np\n",
    "scores = np.random.randint(0, 100, (5, 3))\n",
    "sort = np.sort(scores, axis=0)[::-1, :]\n",
    "argsort = np.argsort(scores, axis=0)[::-1, :]\n",
    "top2_scores = sort[:2, :]\n",
    "top2_students = argsort[:2, :]\n",
    "print(f\"scores: \\n{scores}\\n\")\n",
    "print(f\"sort: \\n{sort}\")\n",
    "print(f\"argsort: \\n{argsort}\\n\")\n",
    "print(f\"top-2 scores: \\n{top2_scores}\")\n",
    "print(f\"top-2 students: \\n{top2_students}\")"
   ]
  },
  {
   "cell_type": "code",
   "execution_count": 9,
   "metadata": {},
   "outputs": [
    {
     "name": "stdout",
     "output_type": "stream",
     "text": [
      "x: \n",
      "[[99 10 45 92 48]\n",
      " [39  7 27 40 28]\n",
      " [19 37 85  6 18]\n",
      " [49 31 31 17 42]]\n",
      "\n",
      "sort(ascending): \n",
      "[[10 45 48 92 99]\n",
      " [ 7 27 28 39 40]\n",
      " [ 6 18 19 37 85]\n",
      " [17 31 31 42 49]]\n",
      "argsort(ascending): \n",
      "[[1 2 4 3 0]\n",
      " [1 2 4 0 3]\n",
      " [3 4 0 1 2]\n",
      " [3 1 2 4 0]]\n",
      "\n",
      "sort(descending): \n",
      "[[99 92 48 45 10]\n",
      " [40 39 28 27  7]\n",
      " [85 37 19 18  6]\n",
      " [49 42 31 31 17]]\n",
      "argsort(descending): \n",
      "[[0 3 4 2 1]\n",
      " [3 0 4 2 1]\n",
      " [2 1 0 4 3]\n",
      " [0 4 2 1 3]]\n",
      "\n"
     ]
    }
   ],
   "source": [
    "import numpy as np\n",
    "x = np.random.randint(0, 100, (4, 5))\n",
    "sort_ascending = np.sort(x, axis=1)\n",
    "argsort_ascending = np.argsort(x, axis=1)\n",
    "sort_descending = np.sort(x, axis=1)[:, ::-1]\n",
    "argsort_descending = np.argsort(x, axis=1)[:, ::-1]\n",
    "print(f\"x: \\n{x}\\n\")\n",
    "print(f\"sort(ascending): \\n{sort_ascending}\")\n",
    "print(f\"argsort(ascending): \\n{argsort_ascending}\\n\")\n",
    "print(f\"sort(descending): \\n{sort_descending}\")\n",
    "print(f\"argsort(descending): \\n{argsort_descending}\\n\")"
   ]
  },
  {
   "cell_type": "code",
   "execution_count": 10,
   "metadata": {},
   "outputs": [
    {
     "name": "stdout",
     "output_type": "stream",
     "text": [
      "scores: \n",
      "[[16 11 68]\n",
      " [72 91 25]\n",
      " [30 19 30]\n",
      " [92 86 40]\n",
      " [52 52 88]]\n",
      "\n",
      "sort: \n",
      "[[11 16 68]\n",
      " [25 72 91]\n",
      " [19 30 30]\n",
      " [40 86 92]\n",
      " [52 52 88]]\n",
      "argsort: \n",
      "[[1 0 2]\n",
      " [2 0 1]\n",
      " [1 0 2]\n",
      " [2 1 0]\n",
      " [0 1 2]]\n",
      "\n",
      "bottom-2 scores: \n",
      "[[11 16]\n",
      " [25 72]\n",
      " [19 30]\n",
      " [40 86]\n",
      " [52 52]]\n",
      "bottom-2 subjects: \n",
      "[[1 0]\n",
      " [2 0]\n",
      " [1 0]\n",
      " [2 1]\n",
      " [0 1]]\n"
     ]
    }
   ],
   "source": [
    "import numpy as np\n",
    "scores = np.random.randint(0, 100, (5, 3))\n",
    "sort = np.sort(scores, axis=1)\n",
    "argsort = np.argsort(scores, axis=1)\n",
    "bottom2_scores = sort[:, :2]\n",
    "bottom2_subjects = argsort[:, :2]\n",
    "print(f\"scores: \\n{scores}\\n\")\n",
    "print(f\"sort: \\n{sort}\")\n",
    "print(f\"argsort: \\n{argsort}\\n\")\n",
    "print(f\"bottom-2 scores: \\n{bottom2_scores}\")\n",
    "print(f\"bottom-2 subjects: \\n{bottom2_subjects}\")"
   ]
  },
  {
   "cell_type": "code",
   "execution_count": null,
   "metadata": {},
   "outputs": [],
   "source": []
  },
  {
   "cell_type": "code",
   "execution_count": null,
   "metadata": {},
   "outputs": [],
   "source": []
  },
  {
   "cell_type": "code",
   "execution_count": null,
   "metadata": {},
   "outputs": [],
   "source": []
  },
  {
   "cell_type": "code",
   "execution_count": null,
   "metadata": {},
   "outputs": [],
   "source": []
  },
  {
   "cell_type": "code",
   "execution_count": null,
   "metadata": {},
   "outputs": [],
   "source": []
  }
 ],
 "metadata": {
  "interpreter": {
   "hash": "b674431c1d39ef928ef270796425238bfb437e6432d715d69029c8bf72455e63"
  },
  "kernelspec": {
   "display_name": "Python 3.6.15 64-bit ('coin_deep': conda)",
   "language": "python",
   "name": "python3"
  },
  "language_info": {
   "codemirror_mode": {
    "name": "ipython",
    "version": 3
   },
   "file_extension": ".py",
   "mimetype": "text/x-python",
   "name": "python",
   "nbconvert_exporter": "python",
   "pygments_lexer": "ipython3",
   "version": "3.6.15"
  },
  "orig_nbformat": 4
 },
 "nbformat": 4,
 "nbformat_minor": 2
}
